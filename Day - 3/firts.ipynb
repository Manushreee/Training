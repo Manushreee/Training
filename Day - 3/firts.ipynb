{
 "cells": [
  {
   "cell_type": "code",
   "execution_count": 1,
   "id": "0a5d1ecf-5e69-4506-8f71-f1a8ddd04052",
   "metadata": {},
   "outputs": [
    {
     "name": "stdout",
     "output_type": "stream",
     "text": [
      "Hello World\n"
     ]
    }
   ],
   "source": [
    "# print(\"Hello World\")"
   ]
  },
  {
   "cell_type": "code",
   "execution_count": null,
   "id": "d3da0afa-de01-4688-9b3d-f7550bd8f27b",
   "metadata": {},
   "outputs": [],
   "source": [
    "print(\"Hello World\")"
   ]
  },
  {
   "cell_type": "code",
   "execution_count": 3,
   "id": "60b7e1fa-906f-4018-ba1d-a92fc8708518",
   "metadata": {},
   "outputs": [
    {
     "name": "stdout",
     "output_type": "stream",
     "text": [
      "What are the features in the python\n"
     ]
    }
   ],
   "source": [
    "'''fdvg\n",
    "mkv kdfgv'''\n",
    "print(\"What are the features in the python\")"
   ]
  },
  {
   "cell_type": "code",
   "execution_count": 9,
   "id": "c546c80a-b2f2-4244-9af7-e2dddc67ace2",
   "metadata": {},
   "outputs": [
    {
     "name": "stdout",
     "output_type": "stream",
     "text": [
      "Number2 20\n",
      "Number2 is 10\n"
     ]
    }
   ],
   "source": [
    "num1 = 10\n",
    "num2 = 20\n",
    "name = \"MindSprint\"\n",
    "\n",
    "# print(\"Number1\" num1)\n",
    "print(f\"Number2 {num2}\")\n",
    "print(\"Number2 is\", num1)"
   ]
  },
  {
   "cell_type": "code",
   "execution_count": 11,
   "id": "320484a7-3408-4545-b453-0294bc5fccd9",
   "metadata": {},
   "outputs": [
    {
     "name": "stdout",
     "output_type": "stream",
     "text": [
      "The number of fruits are 2 and 4\n"
     ]
    }
   ],
   "source": [
    "apple = 2\n",
    "orange = 4\n",
    "\n",
    "result = f\"The number of fruits are {apple} and {orange}\" \n",
    "print(result)"
   ]
  },
  {
   "cell_type": "code",
   "execution_count": 12,
   "id": "afaf7a5a-bcbe-4ba4-bfe3-c076a5c99970",
   "metadata": {},
   "outputs": [
    {
     "name": "stdout",
     "output_type": "stream",
     "text": [
      "test1   test2   test3\n"
     ]
    }
   ],
   "source": [
    "x,y,z = \"test1\" , \"test2\", \"test3\"\n",
    "print(x,\" \", y, \" \", z)"
   ]
  },
  {
   "cell_type": "code",
   "execution_count": 13,
   "id": "ef782dc6-3429-4e8a-a865-b87897570480",
   "metadata": {},
   "outputs": [
    {
     "name": "stdout",
     "output_type": "stream",
     "text": [
      "temp   temp   temp\n"
     ]
    }
   ],
   "source": [
    "p = q = r = \"temp\"\n",
    "print(p, \" \", q, \" \", r)"
   ]
  },
  {
   "cell_type": "code",
   "execution_count": 23,
   "id": "b27bd2f3-3109-46b2-afbc-60135a6c31f8",
   "metadata": {},
   "outputs": [
    {
     "name": "stdin",
     "output_type": "stream",
     "text": [
      "Enter first number 3\n",
      "Enter sec number 2\n"
     ]
    },
    {
     "name": "stdout",
     "output_type": "stream",
     "text": [
      "Addition of two numbers: 5\n",
      "Subtraction of two numbers: 1\n",
      "Multiplication of two numbers: 6\n",
      "Divide of two numbers: 1.5\n",
      "Floor Division 1\n",
      "Exponential: 9\n"
     ]
    }
   ],
   "source": [
    "num1 = int(input(\"Enter first number\"))\n",
    "num2 = int(input(\"Enter sec number\"))\n",
    "\n",
    "# print(\"Addition of two numbers: \", int(num1) + int(num2))\n",
    "print(\"Addition of two numbers:\" ,num1 + num2)\n",
    "print(\"Subtraction of two numbers:\" ,num1 - num2)\n",
    "print(\"Multiplication of two numbers:\" ,num1 * num2)\n",
    "print(\"Divide of two numbers:\" ,num1 / num2)\n",
    "print(\"Floor Division\" ,num1 // num2)\n",
    "print(\"Exponential:\", num1 ** num2)"
   ]
  },
  {
   "cell_type": "code",
   "execution_count": 25,
   "id": "32e44d1c-e9e9-4417-913d-910e467f8b2d",
   "metadata": {},
   "outputs": [
    {
     "name": "stdout",
     "output_type": "stream",
     "text": [
      "Is num1 equal to num2:  False\n",
      "Is num1 greater than num2:  False\n",
      "Is num1 less than num2:  True\n",
      "Is num1 greater than or equal to num2:  True\n",
      "Is num1 less than or equla to num2:  False\n"
     ]
    }
   ],
   "source": [
    "num1 = 23\n",
    "num2 = 78\n",
    "\n",
    "print(\"Is num1 equal to num2: \", num1 == num2)\n",
    "print(\"Is num1 greater than num2: \", num1 > num2)\n",
    "print(\"Is num1 less than num2: \", num1 < num2)\n",
    "print(\"Is num1 greater than or equal to num2: \", num1 <= num2)\n",
    "print(\"Is num1 less than or equla to num2: \", num1 >= num2)"
   ]
  },
  {
   "cell_type": "code",
   "execution_count": 30,
   "id": "52db2062-55fe-452d-b993-e7a1a505923c",
   "metadata": {},
   "outputs": [
    {
     "name": "stdin",
     "output_type": "stream",
     "text": [
      "Enter the number 45\n"
     ]
    },
    {
     "name": "stdout",
     "output_type": "stream",
     "text": [
      "45\n",
      "46\n",
      "45\n"
     ]
    },
    {
     "name": "stdin",
     "output_type": "stream",
     "text": [
      "Enter the other number 32\n"
     ]
    },
    {
     "name": "stdout",
     "output_type": "stream",
     "text": [
      "13\n"
     ]
    }
   ],
   "source": [
    "num1 = int(input(\"Enter the number\"))\n",
    "print(num1)\n",
    "num1 += 1\n",
    "print(num1)\n",
    "\n",
    "num1 -= 1\n",
    "print(num1)\n",
    "\n",
    "num2 = int(input(\"Enter the other number\"))\n",
    "\n",
    "result = num1 % num2\n",
    "print(result)"
   ]
  },
  {
   "cell_type": "markdown",
   "id": "89206a55-9866-448c-b8f0-432b0c01ef5e",
   "metadata": {},
   "source": [
    "## Logical operator\n"
   ]
  },
  {
   "cell_type": "code",
   "execution_count": 4,
   "id": "a422c43a-e034-4e13-86a8-17891c73f555",
   "metadata": {},
   "outputs": [
    {
     "name": "stdin",
     "output_type": "stream",
     "text": [
      "Enter the email gjfg\n",
      "Enter the password hngv\n"
     ]
    },
    {
     "name": "stdout",
     "output_type": "stream",
     "text": [
      "False\n"
     ]
    }
   ],
   "source": [
    "# name = \"hello1\"\n",
    "# name2 = \"hello2\"\n",
    "email = input(\"Enter the email\")\n",
    "password = input(\"Enter the password\")\n",
    "if email == 'admin@gmail.com' and password == 'admin@123':\n",
    "    print(True)\n",
    "else:\n",
    "    print(False)"
   ]
  },
  {
   "cell_type": "code",
   "execution_count": 5,
   "id": "c694f7d9-255b-49bc-883f-5a8804f7cffc",
   "metadata": {},
   "outputs": [
    {
     "name": "stdout",
     "output_type": "stream",
     "text": [
      "Zero\n"
     ]
    }
   ],
   "source": [
    "num = 0\n",
    "if num > 0:\n",
    "    print(\"Positive number\")\n",
    "elif num == 0:\n",
    "    print(\"Zero\")\n",
    "else:\n",
    "    print(\"Negative number\")"
   ]
  },
  {
   "cell_type": "code",
   "execution_count": 7,
   "id": "fb2f3783-3a48-4e39-b68c-339c871b4363",
   "metadata": {},
   "outputs": [
    {
     "name": "stdout",
     "output_type": "stream",
     "text": [
      "positive\n"
     ]
    }
   ],
   "source": [
    "num = 5\n",
    "print(\"positive\") if num > 0 else print(\"Negative\")"
   ]
  },
  {
   "cell_type": "code",
   "execution_count": 6,
   "id": "aea23220-10e7-4499-b159-f9f36fbe7887",
   "metadata": {},
   "outputs": [
    {
     "name": "stdout",
     "output_type": "stream",
     "text": [
      "Positive number\n"
     ]
    }
   ],
   "source": [
    "num = 9\n",
    "if num > 0:\n",
    "    print(\"Positive number\")"
   ]
  },
  {
   "cell_type": "code",
   "execution_count": 10,
   "id": "2de706c2-e6fb-4296-9bc9-f0caab7ca3a3",
   "metadata": {},
   "outputs": [
    {
     "name": "stdin",
     "output_type": "stream",
     "text": [
      "Enter the number : 56\n"
     ]
    },
    {
     "name": "stdout",
     "output_type": "stream",
     "text": [
      "Positive and even number\n"
     ]
    }
   ],
   "source": [
    "# num = 15\n",
    "num = int(input(\"Enter the number :\" ))\n",
    "if num > 0:\n",
    "    if num % 2 == 0:\n",
    "        print(\"Positive and even number\")\n",
    "    else:\n",
    "        print(\"Positive and odd number\")\n",
    "else:\n",
    "    print(\"Negative number\")"
   ]
  },
  {
   "cell_type": "code",
   "execution_count": 12,
   "id": "91b237bf-3626-48ef-8bfe-80d8e637ec1a",
   "metadata": {},
   "outputs": [
    {
     "name": "stdout",
     "output_type": "stream",
     "text": [
      "This is a place holder code\n"
     ]
    }
   ],
   "source": [
    "# pass - place holder\n",
    "\n",
    "num = -8\n",
    "if num > 0:\n",
    "    pass\n",
    "else:\n",
    "    print(\"This is a place holder code\")"
   ]
  },
  {
   "cell_type": "code",
   "execution_count": 20,
   "id": "80fdafa3-49eb-4ee8-8d67-ae9aa232bf75",
   "metadata": {},
   "outputs": [
    {
     "name": "stdin",
     "output_type": "stream",
     "text": [
      "Enter the marks btw (out of 100)  98\n"
     ]
    },
    {
     "name": "stdout",
     "output_type": "stream",
     "text": [
      "Grade A\n"
     ]
    }
   ],
   "source": [
    "grade = int(input(\"Enter the marks btw (out of 100) \"))\n",
    "\n",
    "if grade >= 90 and grade <= 100:\n",
    "    print(\"Grade A\")\n",
    "elif grade >= 80 and grade < 90:\n",
    "    print(\"Grade B\")\n",
    "elif grade >= 70 and grade < 80:\n",
    "    print(\"Grade C\")\n",
    "elif grade >= 60 and grade < 70:\n",
    "    print(\"Grade D\")\n",
    "else:\n",
    "    print(\"Enter the correct grade\")\n"
   ]
  },
  {
   "cell_type": "code",
   "execution_count": 5,
   "id": "0148ddb1-2d9c-436d-aee7-6d7706389b42",
   "metadata": {},
   "outputs": [
    {
     "name": "stdin",
     "output_type": "stream",
     "text": [
      "Enter the number -9\n"
     ]
    },
    {
     "name": "stdout",
     "output_type": "stream",
     "text": [
      "Error\n"
     ]
    }
   ],
   "source": [
    "num = int(input(\"Enter the number\"))\n",
    "if num > 0:\n",
    "    if num % 2 == 0:\n",
    "        print(\"It is even number\")\n",
    "    else:\n",
    "        print(\"It is odd number\")\n",
    "elif num == 0:\n",
    "    print(\"Its ZERO!!\")\n",
    "elif num < 0:\n",
    "    if num < -10:\n",
    "        print(\"The number is less than -10\")\n",
    "    else:\n",
    "        print(\"Error\")\n",
    "\n"
   ]
  },
  {
   "cell_type": "code",
   "execution_count": 13,
   "id": "a81bab8d-162a-48f2-ac97-208d323fa08e",
   "metadata": {},
   "outputs": [
    {
     "name": "stdin",
     "output_type": "stream",
     "text": [
      "Enter the purchase amount 400\n"
     ]
    },
    {
     "name": "stdout",
     "output_type": "stream",
     "text": [
      " The final price is:  360.0\n"
     ]
    }
   ],
   "source": [
    "amt = int(input(\"Enter the purchase amount\"))\n",
    "if amt > 500:\n",
    "          print(\"Im giving the 20 % discount\")\n",
    "          discounted_price = ((20 * amt) / 100 )\n",
    "          final_price = amt - discounted_price\n",
    "          print(\"The final price is: \", final_price)\n",
    "elif amt >= 200 and amt <= 500:\n",
    "          discounted_price1 = ((10 * amt) / 100)\n",
    "          final_price = amt - discounted_price1\n",
    "          print(\" The final price is: \", final_price)\n",
    "elif amt < 200:\n",
    "          print(\"There is no discount\")\n",
    "          print(\"The final price is: \", amt)\n",
    "\n",
    "          "
   ]
  },
  {
   "cell_type": "code",
   "execution_count": 15,
   "id": "7de7cb16-9761-4946-9c98-ef764a765bd1",
   "metadata": {},
   "outputs": [
    {
     "name": "stdout",
     "output_type": "stream",
     "text": [
      "Count: 1\n",
      "Count: 2\n",
      "Count: 3\n",
      "Count: 4\n",
      "Count: 5\n"
     ]
    }
   ],
   "source": [
    "count = 1\n",
    "while count <= 5:\n",
    "    print(\"Count:\", count)\n",
    "    count += 1"
   ]
  },
  {
   "cell_type": "code",
   "execution_count": 16,
   "id": "8716937c-cc76-4c7d-80c2-79d194b4b57f",
   "metadata": {},
   "outputs": [
    {
     "name": "stdout",
     "output_type": "stream",
     "text": [
      "Number:  1\n",
      "Number:  2\n",
      "Number:  3\n",
      "Number:  4\n",
      "Number:  5\n"
     ]
    }
   ],
   "source": [
    "for num in range(1, 6):\n",
    "    print(\"Number: \", num)"
   ]
  },
  {
   "cell_type": "code",
   "execution_count": 17,
   "id": "1b3db501-f94e-40ab-8105-cc9e3606a78c",
   "metadata": {},
   "outputs": [
    {
     "name": "stdout",
     "output_type": "stream",
     "text": [
      "Number: 1\n",
      "Number: 2\n",
      "Number: 3\n",
      "Number: 4\n",
      "Breaking at number: 5\n"
     ]
    }
   ],
   "source": [
    "for num in range(1, 11):\n",
    "    if num == 5:\n",
    "        print(\"Breaking at number:\", num)\n",
    "        break\n",
    "    print(\"Number:\", num)"
   ]
  },
  {
   "cell_type": "code",
   "execution_count": 18,
   "id": "30fb9f9d-6095-4179-8854-8c11763fa09c",
   "metadata": {},
   "outputs": [
    {
     "name": "stdout",
     "output_type": "stream",
     "text": [
      "Count is:  0\n",
      "Count is:  1\n",
      "Count is:  2\n",
      "Breaking at count= 3\n"
     ]
    }
   ],
   "source": [
    "count = 0\n",
    "while count < 5:\n",
    "    if count == 3:\n",
    "        print(\"Breaking at count=\", count)\n",
    "        break\n",
    "    print(\"Count is: \", count)\n",
    "    count += 1"
   ]
  },
  {
   "cell_type": "code",
   "execution_count": 20,
   "id": "2d857e1a-d912-44b0-b20b-2d55e453759e",
   "metadata": {},
   "outputs": [
    {
     "name": "stdin",
     "output_type": "stream",
     "text": [
      "Enter the first number 4\n",
      "Enter the sec number 8\n"
     ]
    },
    {
     "name": "stdout",
     "output_type": "stream",
     "text": [
      "18\n"
     ]
    }
   ],
   "source": [
    "num1 = int(input(\"Enter the first number\"))\n",
    "num2 = int(input(\"Enter the sec number\"))\n",
    "sum1 = 0\n",
    "for num in range(num1, num2 + 1):\n",
    "    if num % 2 == 0:\n",
    "        sum1 += num\n",
    "\n",
    "print(sum1)\n"
   ]
  },
  {
   "cell_type": "code",
   "execution_count": 31,
   "id": "bdcdbf5c-ad09-48c5-a62f-2d251ce65cc8",
   "metadata": {},
   "outputs": [
    {
     "name": "stdin",
     "output_type": "stream",
     "text": [
      "Enter the number:  6\n"
     ]
    },
    {
     "name": "stdout",
     "output_type": "stream",
     "text": [
      "\n",
      "1 \n",
      "1 2 \n",
      "1 2 3 \n",
      "1 2 3 4 \n"
     ]
    }
   ],
   "source": [
    "num = int(input(\"Enter the number: \"))\n",
    "for i in range(1, num):\n",
    "    for j in range(1, i):\n",
    "        print(j, end=\" \" )\n",
    "    print()"
   ]
  },
  {
   "cell_type": "code",
   "execution_count": 32,
   "id": "664ba948-068b-46e4-85c2-808e05b08e7f",
   "metadata": {},
   "outputs": [
    {
     "name": "stdout",
     "output_type": "stream",
     "text": [
      "Hello world\n"
     ]
    }
   ],
   "source": [
    "def hello():\n",
    "    print(\"Hello world\")\n",
    "hello()\n"
   ]
  },
  {
   "cell_type": "code",
   "execution_count": 33,
   "id": "ad3dc981-919f-4ce2-b71e-ddd3d6e60fdb",
   "metadata": {},
   "outputs": [
    {
     "name": "stdout",
     "output_type": "stream",
     "text": [
      "Good Night Nisarga\n"
     ]
    }
   ],
   "source": [
    "def greet(name):\n",
    "    print(\"Good Night\", name)\n",
    "greet('Nisarga')\n"
   ]
  },
  {
   "cell_type": "code",
   "execution_count": 34,
   "id": "c999b3a9-a911-47d2-86e4-d245d8105883",
   "metadata": {},
   "outputs": [
    {
     "name": "stdout",
     "output_type": "stream",
     "text": [
      "24\n"
     ]
    }
   ],
   "source": [
    "def multiply_numbers(a, b):\n",
    "    return a * b\n",
    "\n",
    "result = multiply_numbers(4, 6)\n",
    "print(result)"
   ]
  },
  {
   "cell_type": "code",
   "execution_count": 36,
   "id": "9f7ce5ac-aa5b-4358-9cac-f3d3a1293971",
   "metadata": {},
   "outputs": [
    {
     "name": "stdout",
     "output_type": "stream",
     "text": [
      "Hello, Alice!\n",
      "Hello, Guest!\n"
     ]
    }
   ],
   "source": [
    "#Default \n",
    "def greet(name = \"Guest\"):\n",
    "    print(f\"Hello, {name}!\")\n",
    "greet(\"Alice\")\n",
    "greet()"
   ]
  },
  {
   "cell_type": "code",
   "execution_count": 37,
   "id": "af784ad8-36bf-456a-a7e9-ae09594ad70e",
   "metadata": {},
   "outputs": [
    {
     "name": "stdout",
     "output_type": "stream",
     "text": [
      "Bob is 90 years old and lives in India\n"
     ]
    }
   ],
   "source": [
    "def describe_person(name, age, city):\n",
    "    print(f\"{name} is {age} years old and lives in {city}\")\n",
    "describe_person(age = 90, city = 'India', name = 'Bob')"
   ]
  },
  {
   "cell_type": "code",
   "execution_count": 7,
   "id": "571839b5-5b57-49af-a7f7-3fd1a6d37213",
   "metadata": {},
   "outputs": [],
   "source": [
    "#Recursion\n",
    "def fact(n):\n",
    "    if n == 1:\n",
    "        return 1\n",
    "    else:\n",
    "        return n * fact(n - 1)\n",
    "    result = fact(8)\n",
    "    print(f\"The factorial of {n}  is: \", result)"
   ]
  },
  {
   "cell_type": "code",
   "execution_count": 5,
   "id": "6f64e98c-14b7-454d-ba9e-dd1611ca4db5",
   "metadata": {},
   "outputs": [
    {
     "name": "stdin",
     "output_type": "stream",
     "text": [
      "Enter username:  gjse\n",
      "Enter paswords:  mzjgf\n"
     ]
    },
    {
     "name": "stdout",
     "output_type": "stream",
     "text": [
      "Error wrong\n"
     ]
    }
   ],
   "source": [
    "def valid(username, password):\n",
    "    if username == 'admin@gmail.com' and password == 'admin123':\n",
    "        print(\"It is correct successfull login\")\n",
    "    else:\n",
    "        print(\"Error wrong\")\n",
    "\n",
    "username = input(\"Enter username: \")\n",
    "password = input(\"Enter paswords: \")\n",
    "valid(username, password)\n",
    "# valid('admin@gmail.com', 'admin123')"
   ]
  },
  {
   "cell_type": "code",
   "execution_count": 11,
   "id": "0e46fe54-bfc2-445e-accf-fc711a5009b3",
   "metadata": {},
   "outputs": [
    {
     "name": "stdout",
     "output_type": "stream",
     "text": [
      "The factorial of 9  is:  362880\n"
     ]
    }
   ],
   "source": [
    "#Recursion\n",
    "def fact(n):\n",
    "    if n == 1:\n",
    "        return 1\n",
    "    else:\n",
    "        return n * fact(n - 1)\n",
    "n = 9\n",
    "result = fact(n)\n",
    "print(f\"The factorial of {n}  is: \", result)"
   ]
  },
  {
   "cell_type": "code",
   "execution_count": 35,
   "id": "354c23df-7f85-4737-95e5-588676aa9122",
   "metadata": {},
   "outputs": [
    {
     "name": "stdout",
     "output_type": "stream",
     "text": [
      "[1, 2, 3, 4, 5]\n",
      "[1, 2, 3, 4, 5, 6]\n",
      "[1, 2, 50, 3, 4, 5, 6]\n",
      "6\n",
      "[1, 2, 50, 3, 4, 5]\n",
      "6\n",
      "65\n",
      "1\n",
      "50\n",
      "[1, 50, 3, 4, 5]\n",
      "False\n",
      "[1, 50, 3, 4, 5]\n",
      "[1, 50, 3, 4, 5]\n"
     ]
    }
   ],
   "source": [
    "my_list = [1, 2, 3, 4, 5]\n",
    "print(my_list)\n",
    "my_list.append(6)\n",
    "\n",
    "print(my_list)\n",
    "my_list.insert(2, 50)\n",
    "\n",
    "print(my_list)\n",
    "print(my_list.pop())\n",
    "print(my_list)\n",
    "\n",
    "print(len(my_list))\n",
    "print(sum(my_list))\n",
    "print(min(my_list))\n",
    "print(max(my_list))\n",
    "\n",
    "my_list.remove(2)\n",
    "print(my_list)\n",
    "\n",
    "#check membership\n",
    "print(20 in my_list)\n",
    "\n",
    "print(my_list)\n",
    "\n",
    "#del my_list\n",
    "print(my_list)"
   ]
  },
  {
   "cell_type": "code",
   "execution_count": 13,
   "id": "dfb89be0-1dbd-47a3-905c-4034d689e7f6",
   "metadata": {},
   "outputs": [
    {
     "name": "stdout",
     "output_type": "stream",
     "text": [
      "3\n"
     ]
    }
   ],
   "source": [
    "print(my_list[2])"
   ]
  },
  {
   "cell_type": "code",
   "execution_count": 14,
   "id": "550cb6c6-a545-4e93-86d5-295e668591e5",
   "metadata": {},
   "outputs": [
    {
     "name": "stdout",
     "output_type": "stream",
     "text": [
      "(10, 20, 30, 40, 50)\n"
     ]
    }
   ],
   "source": [
    "my_tup = (10, 20, 30, 40, 50)\n",
    "print(my_tup)"
   ]
  },
  {
   "cell_type": "code",
   "execution_count": 15,
   "id": "85447aea-1fd7-4522-b5fa-9c31ffa7e1cb",
   "metadata": {},
   "outputs": [
    {
     "name": "stdout",
     "output_type": "stream",
     "text": [
      "50\n"
     ]
    }
   ],
   "source": [
    "print(my_tup[4])"
   ]
  },
  {
   "cell_type": "code",
   "execution_count": 29,
   "id": "53aba192-80ae-4b64-84fa-3a3b3b062fae",
   "metadata": {},
   "outputs": [
    {
     "name": "stdout",
     "output_type": "stream",
     "text": [
      "None\n"
     ]
    }
   ],
   "source": [
    "print(my_list.extend([6, 7,7 ,8]))"
   ]
  },
  {
   "cell_type": "code",
   "execution_count": 30,
   "id": "e85fb136-6954-41da-aed3-f7b5d9b254c5",
   "metadata": {},
   "outputs": [
    {
     "name": "stdout",
     "output_type": "stream",
     "text": [
      "[1, 50, 3, 4, 5, 6, 7, 7, 8]\n"
     ]
    }
   ],
   "source": [
    "print(my_list)"
   ]
  },
  {
   "cell_type": "code",
   "execution_count": 39,
   "id": "2a83bbb8-f5b5-4272-915b-31143d10e16d",
   "metadata": {},
   "outputs": [
    {
     "name": "stdout",
     "output_type": "stream",
     "text": [
      "3\n",
      "4\n",
      "5\n"
     ]
    }
   ],
   "source": [
    "numbers = [1, 2, 3, 4, 5, 6, 7]\n",
    "for num in numbers[2 : 5]:\n",
    "    print(num)\n",
    "\n",
    "# for i in range(2, 5):\n",
    "#     print(i)"
   ]
  },
  {
   "cell_type": "code",
   "execution_count": 43,
   "id": "fc7e5a1f-f4a7-4ace-be44-3a57bafa3b00",
   "metadata": {},
   "outputs": [
    {
     "name": "stdout",
     "output_type": "stream",
     "text": [
      "[23, 32, 56, 78, 89]\n",
      "[89, 78, 56, 32, 23]\n",
      "[23, 32, 56, 78, 89]\n"
     ]
    }
   ],
   "source": [
    "my_data = [56, 78, 23, 89, 32]\n",
    "my_data.sort()\n",
    "print(my_data)\n",
    "my_data.sort(reverse = True)\n",
    "print(my_data)\n",
    "my_data.reverse()\n",
    "print(my_data)"
   ]
  },
  {
   "cell_type": "code",
   "execution_count": 44,
   "id": "b8854ef3-4a2a-4d60-a50a-ceb806ab7c84",
   "metadata": {},
   "outputs": [
    {
     "name": "stdout",
     "output_type": "stream",
     "text": [
      "[23, 32, 56, 78, 89]\n",
      "[1, 4, 9, 16, 25]\n"
     ]
    }
   ],
   "source": [
    "copy_numbers = my_data.copy()\n",
    "print(copy_numbers)\n",
    "\n",
    "squares = [ x **2 for x in range(1, 6)]\n",
    "print(squares)"
   ]
  },
  {
   "cell_type": "code",
   "execution_count": 48,
   "id": "4072ee1a-cbbd-4d1c-95c6-04e4ac059409",
   "metadata": {},
   "outputs": [
    {
     "name": "stdout",
     "output_type": "stream",
     "text": [
      "('Nisarga', 'Manushree', 'Vishal', 'Shasidhar', 'Chandan', 'Lokesh', 'rohit')\n"
     ]
    }
   ],
   "source": [
    "names = (\"Nisarga\", \"Manushree\", \"Vishal\", \"Shasidhar\", \"Chandan\", \"Lokesh\", \"rohit\")\n",
    "print(names)"
   ]
  },
  {
   "cell_type": "code",
   "execution_count": 47,
   "id": "668ab388-bf8b-4a34-a926-0b1a6571d243",
   "metadata": {},
   "outputs": [
    {
     "name": "stdout",
     "output_type": "stream",
     "text": [
      "[10, 20, 30, 40]\n"
     ]
    }
   ],
   "source": [
    "numbers_tuple = (10, 20, 30)\n",
    "numbers_list = list(numbers_tuple)\n",
    "\n",
    "numbers_list.append(40)\n",
    "\n",
    "numbers_tuple = tuple(numbers_list)\n",
    "print(numbers_list)"
   ]
  },
  {
   "cell_type": "code",
   "execution_count": 50,
   "id": "eecc239c-7c1b-4f4d-b499-16b45ccad035",
   "metadata": {},
   "outputs": [
    {
     "name": "stdout",
     "output_type": "stream",
     "text": [
      "Access value:  Manushree\n",
      "Access value:  Shasidhar\n",
      "Access value:  Vishal\n"
     ]
    }
   ],
   "source": [
    "names = (\"Nisarga\", \"Manushree\", \"Vishal\", \"Shasidhar\", \"Chandan\", \"Lokesh\", \"rohit\")\n",
    "\n",
    "print('Access value: ', names[1])\n",
    "print('Access value: ', names[3])\n",
    "print('Access value: ', names[-5])"
   ]
  },
  {
   "cell_type": "code",
   "execution_count": 51,
   "id": "bc077134-7856-4056-afeb-23fb96bf45d3",
   "metadata": {},
   "outputs": [
    {
     "name": "stdout",
     "output_type": "stream",
     "text": [
      "(1, 2, 3, 4, 5, 6)\n"
     ]
    }
   ],
   "source": [
    "tuple1 = (1, 2, 3)\n",
    "tuple2 = (4, 5, 6)\n",
    "\n",
    "concat = tuple1 + tuple2\n",
    "\n",
    "print(concat)"
   ]
  },
  {
   "cell_type": "code",
   "execution_count": 57,
   "id": "dee2704f-1d00-48fa-825e-8b9a1de0052d",
   "metadata": {},
   "outputs": [
    {
     "name": "stdout",
     "output_type": "stream",
     "text": [
      "('Danger!!!', 'Danger!!!', 'Danger!!!', 'Danger!!!')\n"
     ]
    }
   ],
   "source": [
    "new_tuple = ('Danger!!!',) * 4\n",
    "print(new_tuple)"
   ]
  },
  {
   "cell_type": "code",
   "execution_count": 60,
   "id": "22814510-c6cc-4ed0-a4c1-ed224c7244e0",
   "metadata": {},
   "outputs": [
    {
     "name": "stdout",
     "output_type": "stream",
     "text": [
      "3\n",
      "2\n"
     ]
    }
   ],
   "source": [
    "lst = [1, 2, 3, 3, 3, 4, 5, 6, 7, 8, 9]\n",
    "print(lst.count(3))\n",
    "\n",
    "print(lst.index(3))"
   ]
  },
  {
   "cell_type": "code",
   "execution_count": 72,
   "id": "7b1c9bb0-6ff7-4a07-a782-89a29d13c134",
   "metadata": {},
   "outputs": [
    {
     "name": "stdout",
     "output_type": "stream",
     "text": [
      "{'eid': 1001, 'name': 'John doe', 'dept': 'CSE(AIML)', 'salary': 100000}\n",
      "Employee name: 1001\n"
     ]
    }
   ],
   "source": [
    "#Dictionary\n",
    "\n",
    "employee = {\n",
    "    \"eid\" : 1001,\n",
    "    \"name\" : \"John doe\",\n",
    "    \"dept\" : \"CSE(AIML)\",\n",
    "    \"salary\" : 1000000\n",
    "}\n",
    "\n",
    "print(employee)\n",
    "print(\"Employee name:\", employee['eid'])"
   ]
  },
  {
   "cell_type": "code",
   "execution_count": 66,
   "id": "d5029079-7126-40d4-bb7e-2d403ab77585",
   "metadata": {},
   "outputs": [
    {
     "ename": "TypeError",
     "evalue": "'dict' object is not callable",
     "output_type": "error",
     "traceback": [
      "\u001b[1;31m---------------------------------------------------------------------------\u001b[0m",
      "\u001b[1;31mTypeError\u001b[0m                                 Traceback (most recent call last)",
      "Cell \u001b[1;32mIn[66], line 1\u001b[0m\n\u001b[1;32m----> 1\u001b[0m \u001b[38;5;28mprint\u001b[39m(\u001b[38;5;124m\"\u001b[39m\u001b[38;5;124mManager:\u001b[39m\u001b[38;5;124m\"\u001b[39m , \u001b[43memployee\u001b[49m\u001b[43m(\u001b[49m\u001b[38;5;124;43m'\u001b[39;49m\u001b[38;5;124;43mmanager\u001b[39;49m\u001b[38;5;124;43m'\u001b[39;49m\u001b[43m)\u001b[49m) \u001b[38;5;66;03m#If key not found throws arror\u001b[39;00m\n",
      "\u001b[1;31mTypeError\u001b[0m: 'dict' object is not callable"
     ]
    }
   ],
   "source": [
    "print(\"Manager:\" , employee('manager')) #If key not found throws arror"
   ]
  },
  {
   "cell_type": "code",
   "execution_count": 67,
   "id": "cc617107-2d87-49c6-ac4b-191b10d760a5",
   "metadata": {},
   "outputs": [
    {
     "name": "stdout",
     "output_type": "stream",
     "text": [
      "Manager: None\n"
     ]
    }
   ],
   "source": [
    "print(\"Manager:\" , employee.get('manager'))  #If  key not found will not give error - gives none"
   ]
  },
  {
   "cell_type": "code",
   "execution_count": 71,
   "id": "4a4280dd-6522-49f3-80d4-bbde4128aa83",
   "metadata": {},
   "outputs": [
    {
     "name": "stdout",
     "output_type": "stream",
     "text": [
      "Manager: None\n",
      "Manager: Nisarga and Manushree\n"
     ]
    }
   ],
   "source": [
    "print(\"Manager:\" , employee.get('manager')) \n",
    "print(\"Manager:\" , employee.get('manager', \"Nisarga and Manushree\"))"
   ]
  },
  {
   "cell_type": "code",
   "execution_count": 74,
   "id": "bc2e5346-f08a-4c30-8842-7d594b4f871d",
   "metadata": {},
   "outputs": [
    {
     "data": {
      "text/plain": [
       "('dept', 'CSE(AIML)')"
      ]
     },
     "execution_count": 74,
     "metadata": {},
     "output_type": "execute_result"
    }
   ],
   "source": [
    "employee.popitem() #Remove the last item and return"
   ]
  },
  {
   "cell_type": "code",
   "execution_count": 77,
   "id": "609c8f27-ce0c-4efb-97c0-7061f9e25ed8",
   "metadata": {},
   "outputs": [
    {
     "data": {
      "text/plain": [
       "1001"
      ]
     },
     "execution_count": 77,
     "metadata": {},
     "output_type": "execute_result"
    }
   ],
   "source": [
    "employee.pop('eid')"
   ]
  },
  {
   "cell_type": "code",
   "execution_count": 80,
   "id": "39fbc46a-f163-4591-b14a-90897752b14b",
   "metadata": {},
   "outputs": [
    {
     "name": "stdout",
     "output_type": "stream",
     "text": [
      "{'eid': 1006, 'name': 'shasidhar', 'dept': 'IT', 'salary': 100000067}\n"
     ]
    }
   ],
   "source": [
    "#Dictionary\n",
    "\n",
    "employee2 = {\n",
    "    \"eid\" : 1006,\n",
    "    \"name\" : \"shasidhar\",\n",
    "    \"dept\" : \"IT\",\n",
    "    \"salary\" : 100000067\n",
    "}\n",
    "\n",
    "print(employee2)\n",
    "# print(\"Employee name:\", employee['eid'])"
   ]
  },
  {
   "cell_type": "code",
   "execution_count": 87,
   "id": "12eb49d1-049d-4e2c-a9ed-43ce09cfd99d",
   "metadata": {},
   "outputs": [
    {
     "name": "stdout",
     "output_type": "stream",
     "text": [
      "{'id': '101', 'name': 'alex', 'email': 'alex@gmail.com', 'address': 'us'}\n"
     ]
    }
   ],
   "source": [
    "Student = {\n",
    "    \"id\" : \"101\", \n",
    "    \"name\" : \"alex\",\n",
    "    \"email\" : \"alex@gmail.com\",\n",
    "    \"address\" : \"us\"\n",
    "}\n",
    "print(student)"
   ]
  },
  {
   "cell_type": "code",
   "execution_count": 83,
   "id": "8cab7019-ad22-4abe-a5b5-cc0207771c8e",
   "metadata": {},
   "outputs": [
    {
     "name": "stdout",
     "output_type": "stream",
     "text": [
      "dict_items([('id', '101'), ('name', 'alex'), ('email', 'alex@gmail.com'), ('address', 'us')])\n"
     ]
    }
   ],
   "source": [
    "print(student.items())"
   ]
  },
  {
   "cell_type": "code",
   "execution_count": 88,
   "id": "4943b27e-efd1-44c3-a062-b21bb0c7ac27",
   "metadata": {},
   "outputs": [
    {
     "name": "stdout",
     "output_type": "stream",
     "text": [
      "id :  101\n",
      "name :  alex\n",
      "email :  alex@gmail.com\n",
      "address :  us\n"
     ]
    }
   ],
   "source": [
    "for key, value in student.items():\n",
    "    print(key, \": \", value)"
   ]
  },
  {
   "cell_type": "code",
   "execution_count": 89,
   "id": "52daeee9-a83b-480f-972b-6a38f39ec7b5",
   "metadata": {},
   "outputs": [
    {
     "name": "stdout",
     "output_type": "stream",
     "text": [
      "address is present in student object\n"
     ]
    }
   ],
   "source": [
    "if \"address\" in student:\n",
    "    print(\"address is present in student object\")"
   ]
  },
  {
   "cell_type": "code",
   "execution_count": 91,
   "id": "3ff7924b-bbcb-4af8-b1d7-4d92b1bb820c",
   "metadata": {},
   "outputs": [
    {
     "name": "stdout",
     "output_type": "stream",
     "text": [
      "{403, 404, 500, 200, 302}\n"
     ]
    }
   ],
   "source": [
    "#Set\n",
    "myset = {404, 200, 500, 302, 403, 302}\n",
    "print(myset)"
   ]
  },
  {
   "cell_type": "code",
   "execution_count": 95,
   "id": "cce10b47-c3d2-419d-b65a-558edbd6a260",
   "metadata": {},
   "outputs": [
    {
     "name": "stdout",
     "output_type": "stream",
     "text": [
      "403\n",
      "404\n",
      "500\n",
      "200\n",
      "302\n"
     ]
    }
   ],
   "source": [
    "for num in myset:\n",
    "    print(num)"
   ]
  },
  {
   "cell_type": "code",
   "execution_count": 101,
   "id": "10743941-0b3f-4704-8648-7fe7f9315c64",
   "metadata": {},
   "outputs": [
    {
     "name": "stdout",
     "output_type": "stream",
     "text": [
      "{402, 403, 404, 500, 501, 200, 302}\n",
      "{402, 403, 404, 500, 501, 200, 302, 303}\n",
      "{402, 403, 404, 500, 501, 200, 302}\n"
     ]
    }
   ],
   "source": [
    "#Adding an element\n",
    "myset.add(501)\n",
    "print(myset)\n",
    "myset.update([303,402]) #pass list to add multiple elements\n",
    "print(myset)\n",
    "\n",
    "#Removal\n",
    "myset.remove(303)\n",
    "print(myset)"
   ]
  },
  {
   "cell_type": "code",
   "execution_count": 104,
   "id": "a2fef0c8-9a32-476f-a72d-f43aadf7ca46",
   "metadata": {},
   "outputs": [
    {
     "name": "stdout",
     "output_type": "stream",
     "text": [
      "{402, 403, 404, 500, 501, 200, 302}\n",
      "{403, 404, 500, 501, 200, 302}\n"
     ]
    }
   ],
   "source": [
    "myset.discard(303) #if not found then no error\n",
    "print(myset)\n",
    "myset.pop()\n",
    "print(myset)"
   ]
  },
  {
   "cell_type": "code",
   "execution_count": 106,
   "id": "71a65902-a9e8-41ba-a4af-855e787d6dd7",
   "metadata": {},
   "outputs": [
    {
     "name": "stdout",
     "output_type": "stream",
     "text": [
      "None\n",
      "set()\n"
     ]
    }
   ],
   "source": [
    "print(myset.clear())\n",
    "print(myset)"
   ]
  },
  {
   "cell_type": "code",
   "execution_count": 108,
   "id": "09ec8f83-6442-4b02-be54-a95418913253",
   "metadata": {},
   "outputs": [
    {
     "name": "stdout",
     "output_type": "stream",
     "text": [
      "Set is empty\n"
     ]
    }
   ],
   "source": [
    "if len(myset) > 0:\n",
    "    myset.pop()\n",
    "else:\n",
    "    print(\"Set is empty\")"
   ]
  },
  {
   "cell_type": "code",
   "execution_count": 109,
   "id": "afc97084-04b8-4c02-b817-46f7a6aeb8a8",
   "metadata": {},
   "outputs": [
    {
     "name": "stdout",
     "output_type": "stream",
     "text": [
      "{1, 2, 3, 4, 5, 6, 7, 8}\n",
      "{1, 2, 3, 4, 5, 6, 7, 8}\n",
      "{4, 5}\n",
      "{4, 5}\n",
      "{1, 2, 3}\n",
      "{1, 2, 3}\n",
      "{1, 2, 3, 6, 7, 8}\n",
      "{1, 2, 3, 6, 7, 8}\n"
     ]
    }
   ],
   "source": [
    "A = {1, 2, 3, 4, 5}\n",
    "B = {4, 5, 6, 7, 8}\n",
    "\n",
    "#Union - combines elements from both sets\n",
    "print(A | B)\n",
    "print(A.union(B))\n",
    "\n",
    "#Intersection - common elements\n",
    "print(A & B)\n",
    "print(A.intersection(B))\n",
    "\n",
    "#Difference - elements in A but not in B\n",
    "print(A - B)\n",
    "print(A.difference(B))\n",
    "\n",
    "#Symmmetric Difference\n",
    "#Elements in either set but not in both\n",
    "print(A ^ B)\n",
    "print(A.symmetric_difference(B))"
   ]
  },
  {
   "cell_type": "code",
   "execution_count": 143,
   "id": "7e0e7c4a-b966-41c8-a204-0b239c8df14b",
   "metadata": {},
   "outputs": [
    {
     "name": "stdout",
     "output_type": "stream",
     "text": [
      "{'employee1': {'eid': 1001, 'name': 'Nisarga', 'dept': 'IT', 'salary': 100000067}, 'employee2': {'eid': 1002, 'name': 'shasidhar', 'dept': 'IT', 'salary': 100000067}, 'employee3': {'eid': 1003, 'name': 'manushree', 'dept': 'IT', 'salary': 100000067}}\n",
      "{'employee1': {'eid': 1001, 'name': 'Nisarga', 'dept': 'IT', 'salary': 100000067}, 'employee2': {'eid': 1002, 'name': 'shasidhar', 'dept': 'IT', 'salary': 100000067}, 'employee3': {'eid': 1003, 'name': 'manushree', 'dept': 'IT', 'salary': 100000067}, 'employee4': {'eid': 1004, 'name': 'vishal', 'dept': 'IT', 'salary': 100000056634}}\n",
      "Updates employee salary: \n",
      " {'employee1': {'eid': 1001, 'name': 'Nisarga', 'dept': 'IT', 'salary': 100000067}, 'employee2': {'eid': 1002, 'name': 'shasidhar', 'dept': 'IT', 'salary': 100000067}, 'employee3': {'eid': 1004, 'name': 'vishal', 'dept': 'IT', 'salary': 54345665276}, 'employee4': {'eid': 1004, 'name': 'vishal', 'dept': 'IT', 'salary': 100000056634}}\n",
      "Updates employee salary: \n",
      " {'employee1': {'eid': 1001, 'name': 'Nisarga', 'dept': 'IT', 'salary': 100000067}, 'employee2': {'eid': 1002, 'name': 'shasidhar', 'dept': 'IT', 'salary': 100000067}, 'employee3': {'eid': 1004, 'name': 'vishal', 'dept': 'IT', 'salary': 54345665276}, 'employee4': {'eid': 1004, 'name': 'vishal', 'dept': 'IT', 'salary': 100000056634}}\n"
     ]
    },
    {
     "data": {
      "text/plain": [
       "{'eid': 1001, 'name': 'Nisarga', 'dept': 'IT', 'salary': 100000067}"
      ]
     },
     "execution_count": 143,
     "metadata": {},
     "output_type": "execute_result"
    }
   ],
   "source": [
    "employees = { \n",
    "    \"employee1\" : { \"eid\" : 1001, \"name\" : \"Nisarga\", \"dept\" : \"IT\",\"salary\" : 100000067 },\n",
    "    \"employee2\" : { \"eid\" : 1002, \"name\" : \"shasidhar\", \"dept\" : \"IT\", \"salary\" : 100000067 }, \n",
    "    \"employee3\" : { \"eid\" : 1003, \"name\" : \"manushree\", \"dept\" : \"IT\", \"salary\" : 100000067 }\n",
    "}\n",
    "\n",
    "print(employees)\n",
    "\n",
    "\n",
    "#Add a new employee\n",
    "\n",
    "employees[\"employee4\"] = {\"eid\" : 1004, \"name\" : \"vishal\", \"dept\" : \"IT\",\"salary\" : 100000056634 }\n",
    "\n",
    "print(employees)\n",
    "\n",
    "employees[\"employee3\"] = {\"eid\" : 1004, \"name\" : \"vishal\", \"dept\" : \"IT\",\"salary\" : 54345665276 }\n",
    "print(\"Updates employee salary: \\n\", employees)\n",
    "\n",
    "employees[\"employee3\"] = {\"eid\" : 1004, \"name\" : \"vishal\", \"dept\" : \"IT\",\"salary\" : 54345665276 }\n",
    "print(\"Updates employee salary: \\n\", employees)\n",
    "employees.pop(\"employee1\")"
   ]
  },
  {
   "cell_type": "code",
   "execution_count": 150,
   "id": "a6e1fe9a-72f5-47c0-a5ce-ae497616d5b0",
   "metadata": {},
   "outputs": [
    {
     "name": "stdout",
     "output_type": "stream",
     "text": [
      "---------------------------------------------\n",
      "eid: 1001\n",
      "name: Nisarga\n",
      "dept: IT\n",
      "salary: 100000067\n",
      "---------------------------------------------\n",
      "eid: 1002\n",
      "name: Shasidhar\n",
      "dept: IT\n",
      "salary: 100000067\n",
      "---------------------------------------------\n",
      "eid: 1003\n",
      "name: Manushree\n",
      "dept: IT\n",
      "salary: 100000067\n",
      "\n",
      "Adding a new employee:\n",
      "---------------------------------------------\n",
      "eid: 1001\n",
      "name: Nisarga\n",
      "dept: IT\n",
      "salary: 100000067\n",
      "---------------------------------------------\n",
      "eid: 1002\n",
      "name: Shasidhar\n",
      "dept: IT\n",
      "salary: 100000067\n",
      "---------------------------------------------\n",
      "eid: 1003\n",
      "name: Manushree\n",
      "dept: IT\n",
      "salary: 100000067\n",
      "---------------------------------------------\n",
      "eid: 1004\n",
      "name: Ravi\n",
      "dept: HR\n",
      "salary: 90000000\n",
      "\n",
      "Updating salary:\n",
      "Salary updated for employee ID 1002\n",
      "---------------------------------------------\n",
      "eid: 1001\n",
      "name: Nisarga\n",
      "dept: IT\n",
      "salary: 100000067\n",
      "---------------------------------------------\n",
      "eid: 1002\n",
      "name: Shasidhar\n",
      "dept: IT\n",
      "salary: 120000000\n",
      "---------------------------------------------\n",
      "eid: 1003\n",
      "name: Manushree\n",
      "dept: IT\n",
      "salary: 100000067\n",
      "---------------------------------------------\n",
      "eid: 1004\n",
      "name: Ravi\n",
      "dept: HR\n",
      "salary: 90000000\n",
      "\n",
      "Removing an employee:\n",
      "Employee with ID 1003 removed\n",
      "---------------------------------------------\n",
      "eid: 1001\n",
      "name: Nisarga\n",
      "dept: IT\n",
      "salary: 100000067\n",
      "---------------------------------------------\n",
      "eid: 1002\n",
      "name: Shasidhar\n",
      "dept: IT\n",
      "salary: 120000000\n",
      "---------------------------------------------\n",
      "eid: 1004\n",
      "name: Ravi\n",
      "dept: HR\n",
      "salary: 90000000\n"
     ]
    }
   ],
   "source": [
    "# employees = { \n",
    "#     \"employee1\" : { \"eid\" : 1001, \"name\" : \"Nisarga\", \"dept\" : \"IT\",\"salary\" : 100000067 },\n",
    "#     \"employee2\" : { \"eid\" : 1002, \"name\" : \"shasidhar\", \"dept\" : \"IT\", \"salary\" : 100000067 }, \n",
    "#     \"employee3\" : { \"eid\" : 1003, \"name\" : \"manushree\", \"dept\" : \"IT\", \"salary\" : 100000067 }\n",
    "# }\n",
    "\n",
    "# def add_employee(eid, name, department, salary):\n",
    "#     n = len(employees)\n",
    "#     employees[f'employee[{n + 1} '] = { \"eid\" : id, \"name\" : name, \"department\" : department, \"salary\" : salary}\n",
    "\n",
    "\n",
    "# def update_salary(eid, name, department, salary):\n",
    "#     pass\n",
    "\n",
    "# def remove_employee(eid, name, department, salary):\n",
    "#     pass\n",
    "# def print_employee(employees):\n",
    "#     for emp in employees:\n",
    "#         print(\"---------------------------------------------\")\n",
    "#         for key in employees[employee]:\n",
    "#             print(key, \" \", employees[employee][key])\n",
    "# print_employee(employees)\n",
    "\n",
    "\n",
    "\n",
    "employees = { \n",
    "    \"employee1\" : { \"eid\" : 1001, \"name\" : \"Nisarga\", \"dept\" : \"IT\", \"salary\" : 100000067 },\n",
    "    \"employee2\" : { \"eid\" : 1002, \"name\" : \"Shasidhar\", \"dept\" : \"IT\", \"salary\" : 100000067 }, \n",
    "    \"employee3\" : { \"eid\" : 1003, \"name\" : \"Manushree\", \"dept\" : \"IT\", \"salary\" : 100000067 }\n",
    "}\n",
    "\n",
    "def add_employee(eid, name, department, salary):\n",
    "    n = len(employees)\n",
    "    employees[f'employee{n + 1}'] = { \"eid\" : eid, \"name\" : name, \"dept\" : department, \"salary\" : salary }\n",
    "\n",
    "def update_salary(eid, new_salary):\n",
    "    for emp in employees.values():\n",
    "        if emp['eid'] == eid:\n",
    "            emp['salary'] = new_salary\n",
    "            return f\"Salary updated for employee ID {eid}\"\n",
    "    return f\"Employee with ID {eid} not found\"\n",
    "\n",
    "def remove_employee(eid):\n",
    "    for key, emp in list(employees.items()):\n",
    "        if emp['eid'] == eid:\n",
    "            del employees[key]\n",
    "            return f\"Employee with ID {eid} removed\";\n",
    "    return f\"Employee with ID {eid} not found\"\n",
    "\n",
    "def print_employee(employees):\n",
    "    for emp in employees:\n",
    "        print(\"---------------------------------------------\")\n",
    "        for key in employees[emp]:\n",
    "            print(f\"{key}: {employees[emp][key]}\")\n",
    "\n",
    "# Testing the functions\n",
    "print_employee(employees)\n",
    "print(\"\\nAdding a new employee:\")\n",
    "add_employee(1004, \"Ravi\", \"HR\", 90000000)\n",
    "print_employee(employees)\n",
    "print(\"\\nUpdating salary:\")\n",
    "print(update_salary(1002, 120000000))\n",
    "print_employee(employees)\n",
    "print(\"\\nRemoving an employee:\")\n",
    "print(remove_employee(1003))\n",
    "print_employee(employees)"
   ]
  },
  {
   "cell_type": "code",
   "execution_count": 2,
   "id": "7b4f91e9-891f-44b7-b0fc-794f2987976b",
   "metadata": {},
   "outputs": [
    {
     "name": "stdout",
     "output_type": "stream",
     "text": [
      "Version: 2.2.3\n"
     ]
    }
   ],
   "source": [
    "import pandas as pd\n",
    "print('Version:', pd.__version__)"
   ]
  },
  {
   "cell_type": "code",
   "execution_count": 4,
   "id": "6ceec942-35d8-4673-b2af-692c9488edaa",
   "metadata": {},
   "outputs": [
    {
     "name": "stdout",
     "output_type": "stream",
     "text": [
      "0     1\n",
      "1     2\n",
      "2     3\n",
      "3     4\n",
      "4     5\n",
      "5     6\n",
      "6    33\n",
      "7    66\n",
      "dtype: int64\n",
      "4\n"
     ]
    }
   ],
   "source": [
    "list=[1,2,3,4,5,6,33,66]\n",
    "myseries=pd.Series(list)\n",
    "print(myseries)\n",
    "print(myseries[3])"
   ]
  },
  {
   "cell_type": "code",
   "execution_count": 6,
   "id": "b9815473-62cb-4522-a3ef-5671c66beb2f",
   "metadata": {},
   "outputs": [
    {
     "name": "stdout",
     "output_type": "stream",
     "text": [
      "a    1\n",
      "b    7\n",
      "c    4\n",
      "dtype: int64\n",
      "7\n"
     ]
    }
   ],
   "source": [
    "a=[1,7,4]\n",
    "myvar=pd.Series(a,index=[\"a\",\"b\",\"c\"])\n",
    "print(myvar)\n",
    "print(myvar[\"b\"])"
   ]
  },
  {
   "cell_type": "code",
   "execution_count": 7,
   "id": "3e925fc4-94fd-49ae-bcde-8c57d586e088",
   "metadata": {},
   "outputs": [
    {
     "name": "stdout",
     "output_type": "stream",
     "text": [
      "id                           1\n",
      "name                 Manushree\n",
      "email      Manushree@gmail.com\n",
      "address                 Mysuru\n",
      "salary                 1000000\n",
      "dtype: object\n",
      "id 1\n",
      "name Manushree\n"
     ]
    }
   ],
   "source": [
    "employee={\n",
    "    \"id\":1,\n",
    "    \"name\":\"Manushree\",\n",
    "    \"email\":\"Manushree@gmail.com\",\n",
    "    \"address\":\"Mysuru\",\n",
    "    \"salary\":1000000\n",
    "}\n",
    "data=pd.Series(employee)\n",
    "print(data)\n",
    "print(\"id\",data[\"id\"])\n",
    "print(\"name\",data[\"name\"])"
   ]
  },
  {
   "cell_type": "code",
   "execution_count": 15,
   "id": "9697587c-1a43-483a-92e4-d0a47421d629",
   "metadata": {},
   "outputs": [
    {
     "name": "stdout",
     "output_type": "stream",
     "text": [
      "   id name\n",
      "0   1    A\n",
      "1   2    B\n",
      "2   3    C\n",
      "3   4    D\n",
      "id      1\n",
      "name    A\n",
      "Name: 0, dtype: object\n",
      "A\n",
      "id      1\n",
      "name    A\n",
      "Name: 0, dtype: object\n"
     ]
    }
   ],
   "source": [
    "sample = {\n",
    "    \"id\" : [1, 2, 3, 4,],\n",
    "    \"name\" : [\"A\", \"B\", \"C\", \"D\"]\n",
    "}\n",
    "df = pd.DataFrame(sample)\n",
    " \n",
    "print(df)\n",
    "print(df.loc[0])\n",
    "print(df.iloc[0, 1])\n",
    "print(df.loc[0])\n",
    " #index loc to get element at 0th row and 1st coloumn\n",
    " #first 2 rows"
   ]
  },
  {
   "cell_type": "code",
   "execution_count": 16,
   "id": "4582908a-85c7-45b7-aa5b-203ae6ee69dd",
   "metadata": {},
   "outputs": [
    {
     "name": "stdout",
     "output_type": "stream",
     "text": [
      "    name  age  salary          email\n",
      "0   alex   23    4556     alex@gamil\n",
      "1  catty   24    7567  cat@gmail.com\n",
      "2    bob   25   57567  bob@gmail.com\n"
     ]
    }
   ],
   "source": [
    "user_data = {\n",
    "    \"name\" : [ \"alex\", \"catty\", \"bob\"],\n",
    "    \"age\" : [23, 24, 25],\n",
    "    \"salary\" : [4556, 7567, 57567],\n",
    "    \"email\" : [\"alex@gamil\", \"cat@gmail.com\", \"bob@gmail.com\"]\n",
    "}\n",
    " \n",
    "df1 = pd.DataFrame(user_data)\n",
    "print(df1)"
   ]
  },
  {
   "cell_type": "code",
   "execution_count": 17,
   "id": "175e7694-b29f-4c7a-bec9-afc2d0bce5b7",
   "metadata": {},
   "outputs": [
    {
     "name": "stdout",
     "output_type": "stream",
     "text": [
      "        Name  Age         City\n",
      "0  Manushree   22     New York\n",
      "1    Nisarga   22  Los Angeles\n",
      "2    Lavanya   22      Chicago\n",
      "3  Anu Priya   22      Houston\n"
     ]
    }
   ],
   "source": [
    "data=[\n",
    "    [\"Manushree\", 22,\"New York\"],\n",
    "    [\"Nisarga\",22,\"Los Angeles\"],\n",
    "    [\"Lavanya\",22,\"Chicago\"],\n",
    "    [\"Anu Priya\",22,\"Houston\"]\n",
    "]\n",
    "df=pd.DataFrame(data,columns=[\"Name\",\"Age\",\"City\"])\n",
    "print(df)"
   ]
  },
  {
   "cell_type": "code",
   "execution_count": 18,
   "id": "3beae34e-9378-4880-af5d-5a83f958ab6d",
   "metadata": {},
   "outputs": [
    {
     "name": "stdout",
     "output_type": "stream",
     "text": [
      "       id               name                           email       gender  \\\n",
      "0       1   Cirstoforo Haime               chaime0@chron.com  Genderqueer   \n",
      "1       2        Ebony Moyes  emoyes1@networkadvertising.org       Female   \n",
      "2       3    Lilli McMenamin         lmcmenamin2@harvard.edu       Female   \n",
      "3       4     Leeland Baglin               lbaglin3@dmoz.org  Genderfluid   \n",
      "4       5      Riley Semiras             rsemiras4@europa.eu         Male   \n",
      "..    ...                ...                             ...          ...   \n",
      "995   996   Bernie Gillespey            bgillespeyrn@mapy.cz  Genderfluid   \n",
      "996   997  Deonne Woodbridge         dwoodbridgero@google.fr       Female   \n",
      "997   998   Danella Bienvenu         dbienvenurp@twitpic.com       Female   \n",
      "998   999       Giraud Goane          ggoanerq@xinhuanet.com         Male   \n",
      "999  1000      Mort Muddiman         mmuddimanrr@mozilla.com         Male   \n",
      "\n",
      "     grade  \n",
      "0      6.5  \n",
      "1      3.6  \n",
      "2      5.2  \n",
      "3      1.6  \n",
      "4      8.0  \n",
      "..     ...  \n",
      "995    8.8  \n",
      "996    5.4  \n",
      "997    5.0  \n",
      "998    9.7  \n",
      "999    2.0  \n",
      "\n",
      "[1000 rows x 5 columns]\n"
     ]
    }
   ],
   "source": [
    "student_data=pd.read_csv('MOCK_DATA.csv')\n",
    "print(student_data) #printing entire data frame"
   ]
  },
  {
   "cell_type": "code",
   "execution_count": 20,
   "id": "8e0f116c-768e-4e30-9088-77ed8001f016",
   "metadata": {},
   "outputs": [
    {
     "data": {
      "text/html": [
       "<div>\n",
       "<style scoped>\n",
       "    .dataframe tbody tr th:only-of-type {\n",
       "        vertical-align: middle;\n",
       "    }\n",
       "\n",
       "    .dataframe tbody tr th {\n",
       "        vertical-align: top;\n",
       "    }\n",
       "\n",
       "    .dataframe thead th {\n",
       "        text-align: right;\n",
       "    }\n",
       "</style>\n",
       "<table border=\"1\" class=\"dataframe\">\n",
       "  <thead>\n",
       "    <tr style=\"text-align: right;\">\n",
       "      <th></th>\n",
       "      <th>id</th>\n",
       "      <th>name</th>\n",
       "      <th>email</th>\n",
       "      <th>gender</th>\n",
       "      <th>grade</th>\n",
       "    </tr>\n",
       "  </thead>\n",
       "  <tbody>\n",
       "    <tr>\n",
       "      <th>0</th>\n",
       "      <td>1</td>\n",
       "      <td>Cirstoforo Haime</td>\n",
       "      <td>chaime0@chron.com</td>\n",
       "      <td>Genderqueer</td>\n",
       "      <td>6.5</td>\n",
       "    </tr>\n",
       "    <tr>\n",
       "      <th>1</th>\n",
       "      <td>2</td>\n",
       "      <td>Ebony Moyes</td>\n",
       "      <td>emoyes1@networkadvertising.org</td>\n",
       "      <td>Female</td>\n",
       "      <td>3.6</td>\n",
       "    </tr>\n",
       "    <tr>\n",
       "      <th>2</th>\n",
       "      <td>3</td>\n",
       "      <td>Lilli McMenamin</td>\n",
       "      <td>lmcmenamin2@harvard.edu</td>\n",
       "      <td>Female</td>\n",
       "      <td>5.2</td>\n",
       "    </tr>\n",
       "    <tr>\n",
       "      <th>3</th>\n",
       "      <td>4</td>\n",
       "      <td>Leeland Baglin</td>\n",
       "      <td>lbaglin3@dmoz.org</td>\n",
       "      <td>Genderfluid</td>\n",
       "      <td>1.6</td>\n",
       "    </tr>\n",
       "    <tr>\n",
       "      <th>4</th>\n",
       "      <td>5</td>\n",
       "      <td>Riley Semiras</td>\n",
       "      <td>rsemiras4@europa.eu</td>\n",
       "      <td>Male</td>\n",
       "      <td>8.0</td>\n",
       "    </tr>\n",
       "  </tbody>\n",
       "</table>\n",
       "</div>"
      ],
      "text/plain": [
       "   id              name                           email       gender  grade\n",
       "0   1  Cirstoforo Haime               chaime0@chron.com  Genderqueer    6.5\n",
       "1   2       Ebony Moyes  emoyes1@networkadvertising.org       Female    3.6\n",
       "2   3   Lilli McMenamin         lmcmenamin2@harvard.edu       Female    5.2\n",
       "3   4    Leeland Baglin               lbaglin3@dmoz.org  Genderfluid    1.6\n",
       "4   5     Riley Semiras             rsemiras4@europa.eu         Male    8.0"
      ]
     },
     "execution_count": 20,
     "metadata": {},
     "output_type": "execute_result"
    }
   ],
   "source": [
    "# directly taking tabular structure\n",
    "student_data.head()"
   ]
  },
  {
   "cell_type": "code",
   "execution_count": 23,
   "id": "4c962741-4d57-4143-b723-32d01cda80cc",
   "metadata": {},
   "outputs": [
    {
     "data": {
      "text/html": [
       "<div>\n",
       "<style scoped>\n",
       "    .dataframe tbody tr th:only-of-type {\n",
       "        vertical-align: middle;\n",
       "    }\n",
       "\n",
       "    .dataframe tbody tr th {\n",
       "        vertical-align: top;\n",
       "    }\n",
       "\n",
       "    .dataframe thead th {\n",
       "        text-align: right;\n",
       "    }\n",
       "</style>\n",
       "<table border=\"1\" class=\"dataframe\">\n",
       "  <thead>\n",
       "    <tr style=\"text-align: right;\">\n",
       "      <th></th>\n",
       "      <th>id</th>\n",
       "      <th>name</th>\n",
       "      <th>email</th>\n",
       "      <th>gender</th>\n",
       "      <th>grade</th>\n",
       "    </tr>\n",
       "  </thead>\n",
       "  <tbody>\n",
       "    <tr>\n",
       "      <th>995</th>\n",
       "      <td>996</td>\n",
       "      <td>Bernie Gillespey</td>\n",
       "      <td>bgillespeyrn@mapy.cz</td>\n",
       "      <td>Genderfluid</td>\n",
       "      <td>8.8</td>\n",
       "    </tr>\n",
       "    <tr>\n",
       "      <th>996</th>\n",
       "      <td>997</td>\n",
       "      <td>Deonne Woodbridge</td>\n",
       "      <td>dwoodbridgero@google.fr</td>\n",
       "      <td>Female</td>\n",
       "      <td>5.4</td>\n",
       "    </tr>\n",
       "    <tr>\n",
       "      <th>997</th>\n",
       "      <td>998</td>\n",
       "      <td>Danella Bienvenu</td>\n",
       "      <td>dbienvenurp@twitpic.com</td>\n",
       "      <td>Female</td>\n",
       "      <td>5.0</td>\n",
       "    </tr>\n",
       "    <tr>\n",
       "      <th>998</th>\n",
       "      <td>999</td>\n",
       "      <td>Giraud Goane</td>\n",
       "      <td>ggoanerq@xinhuanet.com</td>\n",
       "      <td>Male</td>\n",
       "      <td>9.7</td>\n",
       "    </tr>\n",
       "    <tr>\n",
       "      <th>999</th>\n",
       "      <td>1000</td>\n",
       "      <td>Mort Muddiman</td>\n",
       "      <td>mmuddimanrr@mozilla.com</td>\n",
       "      <td>Male</td>\n",
       "      <td>2.0</td>\n",
       "    </tr>\n",
       "  </tbody>\n",
       "</table>\n",
       "</div>"
      ],
      "text/plain": [
       "       id               name                    email       gender  grade\n",
       "995   996   Bernie Gillespey     bgillespeyrn@mapy.cz  Genderfluid    8.8\n",
       "996   997  Deonne Woodbridge  dwoodbridgero@google.fr       Female    5.4\n",
       "997   998   Danella Bienvenu  dbienvenurp@twitpic.com       Female    5.0\n",
       "998   999       Giraud Goane   ggoanerq@xinhuanet.com         Male    9.7\n",
       "999  1000      Mort Muddiman  mmuddimanrr@mozilla.com         Male    2.0"
      ]
     },
     "execution_count": 23,
     "metadata": {},
     "output_type": "execute_result"
    }
   ],
   "source": [
    "student_data.tail()"
   ]
  },
  {
   "cell_type": "code",
   "execution_count": 25,
   "id": "4a16c242-c262-4218-97b6-023412239f2b",
   "metadata": {},
   "outputs": [
    {
     "data": {
      "text/html": [
       "<div>\n",
       "<style scoped>\n",
       "    .dataframe tbody tr th:only-of-type {\n",
       "        vertical-align: middle;\n",
       "    }\n",
       "\n",
       "    .dataframe tbody tr th {\n",
       "        vertical-align: top;\n",
       "    }\n",
       "\n",
       "    .dataframe thead th {\n",
       "        text-align: right;\n",
       "    }\n",
       "</style>\n",
       "<table border=\"1\" class=\"dataframe\">\n",
       "  <thead>\n",
       "    <tr style=\"text-align: right;\">\n",
       "      <th></th>\n",
       "      <th>id</th>\n",
       "      <th>grade</th>\n",
       "    </tr>\n",
       "  </thead>\n",
       "  <tbody>\n",
       "    <tr>\n",
       "      <th>count</th>\n",
       "      <td>1000.000000</td>\n",
       "      <td>1000.000000</td>\n",
       "    </tr>\n",
       "    <tr>\n",
       "      <th>mean</th>\n",
       "      <td>500.500000</td>\n",
       "      <td>5.550900</td>\n",
       "    </tr>\n",
       "    <tr>\n",
       "      <th>std</th>\n",
       "      <td>288.819436</td>\n",
       "      <td>2.635843</td>\n",
       "    </tr>\n",
       "    <tr>\n",
       "      <th>min</th>\n",
       "      <td>1.000000</td>\n",
       "      <td>1.000000</td>\n",
       "    </tr>\n",
       "    <tr>\n",
       "      <th>25%</th>\n",
       "      <td>250.750000</td>\n",
       "      <td>3.200000</td>\n",
       "    </tr>\n",
       "    <tr>\n",
       "      <th>50%</th>\n",
       "      <td>500.500000</td>\n",
       "      <td>5.500000</td>\n",
       "    </tr>\n",
       "    <tr>\n",
       "      <th>75%</th>\n",
       "      <td>750.250000</td>\n",
       "      <td>7.900000</td>\n",
       "    </tr>\n",
       "    <tr>\n",
       "      <th>max</th>\n",
       "      <td>1000.000000</td>\n",
       "      <td>10.000000</td>\n",
       "    </tr>\n",
       "  </tbody>\n",
       "</table>\n",
       "</div>"
      ],
      "text/plain": [
       "                id        grade\n",
       "count  1000.000000  1000.000000\n",
       "mean    500.500000     5.550900\n",
       "std     288.819436     2.635843\n",
       "min       1.000000     1.000000\n",
       "25%     250.750000     3.200000\n",
       "50%     500.500000     5.500000\n",
       "75%     750.250000     7.900000\n",
       "max    1000.000000    10.000000"
      ]
     },
     "execution_count": 25,
     "metadata": {},
     "output_type": "execute_result"
    }
   ],
   "source": [
    "student_data.describe()"
   ]
  },
  {
   "cell_type": "code",
   "execution_count": 26,
   "id": "8d3205ca-1472-4b09-81f6-d3a28e6df2ff",
   "metadata": {},
   "outputs": [
    {
     "name": "stdout",
     "output_type": "stream",
     "text": [
      "       id                    name                                 email       gender  grade\n",
      "0       1        Cirstoforo Haime                     chaime0@chron.com  Genderqueer    6.5\n",
      "1       2             Ebony Moyes        emoyes1@networkadvertising.org       Female    3.6\n",
      "2       3         Lilli McMenamin               lmcmenamin2@harvard.edu       Female    5.2\n",
      "3       4          Leeland Baglin                     lbaglin3@dmoz.org  Genderfluid    1.6\n",
      "4       5           Riley Semiras                   rsemiras4@europa.eu         Male    8.0\n",
      "5       6          Jeralee Lowden                  jlowden5@cbsnews.com       Female    3.4\n",
      "6       7         Bernarr Scraggs               bscraggs6@quantcast.com         Male    9.4\n",
      "7       8          Raphael Darton                       rdarton7@qq.com         Male    3.2\n",
      "8       9       Hayley Gorriessen         hgorriessen8@reverbnation.com      Agender    5.8\n",
      "9      10             Giles Wanek                      gwanek9@cnet.com         Male    5.4\n",
      "10     11       Dimitry Hearnaman             dhearnamana@delicious.com         Male    6.6\n",
      "11     12          Mord Bromehead              mbromeheadb@cbslocal.com         Male    8.0\n",
      "12     13          Emiline Betham                      ebethamc@last.fm       Female    7.5\n",
      "13     14        Vassili Bruhnsen                      vbruhnsend@de.vu         Male    4.1\n",
      "14     15              Abdul Heap                    aheape@twitter.com         Male    5.2\n",
      "15     16            Livy Northam                     lnorthamf@hhs.gov       Female    5.8\n",
      "16     17       Ingeborg Marcombe              imarcombeg@google.com.br       Female    8.9\n",
      "17     18           Marlow Sakins                  msakinsh@dedecms.com         Male    1.7\n",
      "18     19          Rodolph Waight          rwaighti@businessinsider.com         Male    6.5\n",
      "19     20            Dory Drewson                 ddrewsonj@booking.com         Male    3.1\n",
      "20     21           Wayland Eaden                  weadenk@mashable.com         Male    2.6\n",
      "21     22           Shae Maxweell             smaxweelll@infoseek.co.jp     Bigender    4.0\n",
      "22     23         Brandtr Kivelle             bkivellem@liveinternet.ru         Male    9.5\n",
      "23     24            Rhiamon Dowe                  rdowen@moonfruit.com       Female    2.0\n",
      "24     25             Edik Styles                 estyleso@amazon.co.uk         Male    6.7\n",
      "25     26       Urbanus Ballefant                    uballefantp@i2i.jp         Male    2.4\n",
      "26     27        Felicdad Osbourn                  fosbournq@spiegel.de       Female    6.9\n",
      "27     28          Prinz Bembrick                pbembrickr@addthis.com         Male    9.7\n",
      "28     29         Cassi Gowenlock           cgowenlocks@fastcompany.com       Female    3.3\n",
      "29     30           Allx Arendsen            aarendsent@list-manage.com       Female    3.7\n",
      "30     31             Rafa Baffin                  rbaffinu@yahoo.co.jp       Female    9.5\n",
      "31     32           Ricardo Atton                        rattonv@cbc.ca     Bigender    7.7\n",
      "32     33          Martina Demead                   mdemeadw@devhub.com       Female    9.3\n",
      "33     34         Arther Goseling              agoselingx@xinhuanet.com         Male    8.6\n",
      "34     35           Garrot Vogele                     gvogeley@etsy.com         Male    9.4\n",
      "35     36         Tiertza McElree              tmcelreez@techcrunch.com       Female    9.6\n",
      "36     37      Andriette Pinnocke            apinnocke10@purevolume.com   Polygender    9.1\n",
      "37     38           Marian Pierce                  mpierce11@seesaa.net       Female    8.5\n",
      "38     39     Abagail Sutterfield         asutterfield12@wikispaces.com       Female    9.7\n",
      "39     40          Boothe Durrant                  bdurrant13@umich.edu         Male    6.6\n",
      "40     41       Olivero Knightley          oknightley14@fastcompany.com         Male    7.0\n",
      "41     42       Bobine Leadbetter              bleadbetter15@unicef.org       Female    6.2\n",
      "42     43       Moses MacTurlough          mmacturlough16@aboutads.info         Male    8.9\n",
      "43     44            Ivory Bruyet                 ibruyet17@t-online.de       Female    6.8\n",
      "44     45          Korey Hamilton               khamilton18@tinypic.com         Male    8.6\n",
      "45     46           Shelli Smalls                  ssmalls19@cpanel.net       Female    4.2\n",
      "46     47         Gareth Filtness             gfiltness1a@moonfruit.com         Male    4.8\n",
      "47     48            Burk Cathrae                 bcathrae1b@tripod.com         Male    5.4\n",
      "48     49      Sanderson McKelvey                 smckelvey1c@fotki.com         Male    1.8\n",
      "49     50            Rustin Grubb                 rgrubb1d@springer.com   Non-binary    5.9\n",
      "50     51       Hartwell Winspire               hwinspire1e@t-online.de         Male    7.9\n",
      "51     52         Ardisj Shirrell                 ashirrell1f@diigo.com       Female    4.8\n",
      "52     53          Steven Baudins                  sbaudins1g@cam.ac.uk         Male    4.7\n",
      "53     54     Jeniffer Martinelli     jmartinelli1h@creativecommons.org      Agender    8.8\n",
      "54     55       Kimberlee Maultby                    kmaultby1i@gnu.org       Female    9.6\n",
      "55     56      Thorsten Carrabott                  tcarrabott1j@npr.org         Male    1.7\n",
      "56     57            Gaelan Dorey                 gdorey1k@facebook.com         Male    7.5\n",
      "57     58     Morganne Hutchinges             mhutchinges1l@twitpic.com       Female    4.0\n",
      "58     59           Guenna Allday                     gallday1m@msn.com       Female    1.1\n",
      "59     60             Ronnica Lax                     rlax1n@abc.net.au       Female    2.4\n",
      "60     61         Charisse Hellin                      chellin1o@w3.org       Female    2.7\n",
      "61     62              Cori Tomeo                  ctomeo1p@myspace.com         Male    5.4\n",
      "62     63             Amble Cogan              acogan1q@miibeian.gov.cn         Male    5.9\n",
      "63     64          Lindsay Fardoe                   lfardoe1r@phpbb.com      Agender    7.2\n",
      "64     65      Redford Matthessen           rmatthessen1s@homestead.com         Male    1.6\n",
      "65     66            Ava Halliday                  ahalliday1t@ucoz.com       Female    3.0\n",
      "66     67           Olivia Dundin                 odundin1u@shop-pro.jp       Female    9.6\n",
      "67     68          Porter Sidwick                    psidwick1v@nps.gov         Male    1.9\n",
      "68     69           Wesley Julien          wjulien1w@washingtonpost.com         Male    4.9\n",
      "69     70         Letisha Cretney                     lcretney1x@360.cn     Bigender    4.7\n",
      "70     71        Ariadne Rubberts           arubberts1y@liveinternet.ru       Female    2.5\n",
      "71     72      Fredelia Eckersall                feckersall1z@nifty.com       Female    6.6\n",
      "72     73          Matthus Wysome                       mwysome20@is.gd         Male    5.1\n",
      "73     74          Eda Gouldbourn              egouldbourn21@joomla.org       Female    5.1\n",
      "74     75          Holli Merrydew                   hmerrydew22@hhs.gov       Female    8.5\n",
      "75     76         Averil Bummfrey               abummfrey23@samsung.com       Female    6.2\n",
      "76     77             Doria Keedy                   dkeedy24@disqus.com       Female    3.6\n",
      "77     78           Tasha Elnough                  telnough25@blogs.com       Female    4.8\n",
      "78     79     Tamarah Willerstone             twillerstone26@senate.gov       Female    7.5\n",
      "79     80         Ilysa Faulkener                 ifaulkener27@usgs.gov  Genderfluid    4.9\n",
      "80     81            Layne Ruggen                      lruggen28@ed.gov       Female    1.2\n",
      "81     82          Jule Fitzsimon              jfitzsimon29@mozilla.com         Male   10.0\n",
      "82     83       Zaccaria Cullinan       zcullinan2a@constantcontact.com         Male    7.6\n",
      "83     84       Osborne Durbridge                 odurbridge2b@etsy.com         Male    6.5\n",
      "84     85            Ralf Tregien               rtregien2c@symantec.com         Male    7.6\n",
      "85     86         Bradney Redmore             bredmore2d@indiatimes.com         Male    9.6\n",
      "86     87         Garrek McKenney                   gmckenney2e@hud.gov         Male    6.8\n",
      "87     88            Frank Bogace               fbogace2f@discovery.com         Male    3.6\n",
      "88     89           Amerigo Kopke                 akopke2g@berkeley.edu         Male    8.8\n",
      "89     90        Claudell Kneesha                     ckneesha2h@gov.uk  Genderfluid    6.9\n",
      "90     91                Dian Eim                    deim2i@oaic.gov.au       Female    9.1\n",
      "91     92         Donnie Eagleton           deagleton2j@bizjournals.com         Male    5.7\n",
      "92     93            Franny Douch                    fdouch2k@jimdo.com         Male    8.5\n",
      "93     94          Sylas McGeaney                smcgeaney2l@amazon.com         Male    9.2\n",
      "94     95          Hebert Carolan             hcarolan2m@eventbrite.com         Male    4.4\n",
      "95     96         Roderick Owlner                     rowlner2n@ask.com         Male    7.8\n",
      "96     97        Cherri Giacoboni                  cgiacoboni2o@icq.com       Female    8.1\n",
      "97     98        Kristofor Picard         kpicard2p@constantcontact.com         Male    8.2\n",
      "98     99          Shelden Matley              smatley2q@privacy.gov.au         Male    5.7\n",
      "99    100         Ancell Gotthard                 agotthard2r@hexun.com         Male    1.4\n",
      "100   101          Susanna Henric                  shenric2s@rediff.com  Genderqueer    7.9\n",
      "101   102                Kim Quye                   kquye2t@latimes.com       Female    9.4\n",
      "102   103         Marget Stothart                  mstothart2u@imdb.com       Female    8.5\n",
      "103   104       Annmarie Chomicki              achomicki2v@mapquest.com       Female    9.0\n",
      "104   105          Emilee Cubbino                  ecubbino2w@blogs.com       Female    8.8\n",
      "105   106            Toni Jeannet               tjeannet2x@symantec.com       Female    8.1\n",
      "106   107           Lilia Rudiger                    lrudiger2y@icq.com       Female    3.6\n",
      "107   108          Mayor Brandone                   mbrandone2z@ted.com         Male    7.4\n",
      "108   109           Melanie Corse                       mcorse30@gov.uk      Agender    7.9\n",
      "109   110          Cahra Capstake                ccapstake31@devhub.com       Female    1.2\n",
      "110   111        Austen Chevalier            achevalier32@posterous.com         Male    1.9\n",
      "111   112          Kareem Izachik                   kizachik33@nasa.gov         Male    4.6\n",
      "112   113           Maury Pollins           mpollins34@odnoklassniki.ru         Male    3.1\n",
      "113   114       Westleigh Graffin              wgraffin35@google.com.br         Male    2.4\n",
      "114   115            Sara Stealey                 sstealey36@ebay.co.uk       Female    1.9\n",
      "115   116           Chan Chalmers             cchalmers37@newyorker.com         Male    5.2\n",
      "116   117           Lonee Parnall                 lparnall38@discuz.net       Female    5.8\n",
      "117   118             Bowie Porte                    bporte39@state.gov         Male    6.4\n",
      "118   119           Cecelia Lemar                     clemar3a@dell.com       Female    2.9\n",
      "119   120       Charline Caldicot                   ccaldicot3b@php.net       Female    1.1\n",
      "120   121            Brien Mathes                bmathes3c@amazon.co.uk         Male    7.6\n",
      "121   122              Nye Lepope                   nlepope3d@jigsy.com         Male    6.3\n",
      "122   123            Marius Sante                msante3e@earthlink.net         Male    4.3\n",
      "123   124           Judd Hourahan        jhourahan3f@huffingtonpost.com         Male    8.8\n",
      "124   125             Dale Boldra                      dboldra3g@w3.org       Female    3.2\n",
      "125   126           Bobbi Haskins              bhaskins3h@123-reg.co.uk       Female    9.0\n",
      "126   127        Zuzana Catteroll                 zcatteroll3i@admin.ch       Female    9.0\n",
      "127   128          Ortensia Todeo                      otodeo3j@fda.gov       Female    5.5\n",
      "128   129          Elisa Worledge               eworledge3k@weather.com       Female    7.1\n",
      "129   130         Jacquelin Ecles                      jecles3l@unc.edu       Female    4.6\n",
      "130   131          Jenda Korneluk            jkorneluk3m@guardian.co.uk       Female    3.5\n",
      "131   132             Tabb Tomkin                   ttomkin3n@google.fr         Male    6.6\n",
      "132   133         Deloris Smedley              dsmedley3o@microsoft.com       Female    1.7\n",
      "133   134            Prince Towll            ptowll3p@independent.co.uk         Male    5.7\n",
      "134   135           Romona Waiton               rwaiton3q@bigcartel.com       Female    7.6\n",
      "135   136             Galven Bril              gbril3r@domainmarket.com         Male    1.2\n",
      "136   137            Linell Veare                     lveare3s@ucla.edu       Female    1.8\n",
      "137   138            Rahal Braban                 rbraban3t@mozilla.com       Female    2.6\n",
      "138   139       Quintilla Cradick               qcradick3u@geocities.jp       Female    1.4\n",
      "139   140          Lamont Klugman                lklugman3v@oaic.gov.au         Male    9.4\n",
      "140   141       Enrichetta Gosney                    egosney3w@fema.gov       Female    8.7\n",
      "141   142           Carly Barnham                   cbarnham3x@ning.com         Male    7.4\n",
      "142   143           Philis Krause                    pkrause3y@nasa.gov       Female    2.6\n",
      "143   144         Othelia Spoward            ospoward3z@ycombinator.com       Female    7.6\n",
      "144   145           Ettore Tudgay                etudgay40@gravatar.com         Male    4.7\n",
      "145   146            Erich Snoden                  esnoden41@reddit.com         Male    2.9\n",
      "146   147       Matias Giacopazzi               mgiacopazzi42@fotki.com         Male    7.3\n",
      "147   148          Conan Brisbane                    cbrisbane43@goo.gl         Male    4.8\n",
      "148   149            Farrell Zupa                      fzupa44@nasa.gov         Male    7.3\n",
      "149   150       Federico Casaccio           fcasaccio45@dailymail.co.uk         Male    9.1\n",
      "150   151    Delainey Charrington              dcharrington46@nymag.com         Male    4.4\n",
      "151   152         Tessy Pepperill           tpepperill47@cloudflare.com       Female    1.1\n",
      "152   153              Joli Frean                  jfrean48@arizona.edu       Female    6.7\n",
      "153   154           Sergio Burgan                sburgan49@e-recht24.de         Male    1.9\n",
      "154   155        Yolanda Piscotti                  ypiscotti4a@1688.com   Non-binary    3.4\n",
      "155   156         Lucias Linggard                   llinggard4b@ovh.net         Male    2.1\n",
      "156   157           Kele Shawyers                 kshawyers4c@cam.ac.uk         Male    3.1\n",
      "157   158        Madelaine Sailer               msailer4d@posterous.com       Female    1.9\n",
      "158   159             Fan Biddles                      fbiddles4e@ow.ly      Agender    6.3\n",
      "159   160              Debi Cassy                 dcassy4f@so-net.ne.jp       Female    4.7\n",
      "160   161             Trula Ruddy                    truddy4g@globo.com       Female    1.3\n",
      "161   162          Jameson Borton             jborton4h@dailymail.co.uk         Male    5.3\n",
      "162   163            Danie Nussii                dnussii4i@newsvine.com         Male    7.6\n",
      "163   164      Trumann Bermingham               tbermingham4j@ameblo.jp         Male    9.2\n",
      "164   165           Aliza Eardley                   aeardley4k@ox.ac.uk       Female    6.0\n",
      "165   166             Shea Dimock                    sdimock4l@yale.edu       Female    6.6\n",
      "166   167           Tildi Besemer                    tbesemer4m@ftc.gov       Female    2.8\n",
      "167   168            Robers Ekell                     rekell4n@narod.ru         Male    3.4\n",
      "168   169           Maggee Argont                  margont4o@sbwire.com       Female    8.2\n",
      "169   170           Evyn Tremlett                etremlett4p@reddit.com         Male    9.4\n",
      "170   171        Valencia Larcier              vlarcier4q@wikimedia.org       Female    1.5\n",
      "171   172           Trudie Renney                  trenney4r@dion.ne.jp       Female    5.4\n",
      "172   173            Jarred Wymer                jwymer4s@parallels.com         Male    9.2\n",
      "173   174           Lynn Laurance                 llaurance4t@naver.com       Female    8.8\n",
      "174   175           Casie Lockery           clockery4u@businessweek.com       Female    3.8\n",
      "175   176          Bondie Shannon                 bshannon4v@oakley.com         Male    7.5\n",
      "176   177              Aube Uebel            auebel4w@ezinearticles.com         Male    3.3\n",
      "177   178           Madeline Wais             mwais4x@howstuffworks.com       Female    8.9\n",
      "178   179        Duffy Haggerston             dhaggerston4y@squidoo.com         Male    8.1\n",
      "179   180              Budd Varne                     bvarne4z@yale.edu         Male    7.0\n",
      "180   181         Giuditta Taylor                   gtaylor50@wikia.com       Female    6.8\n",
      "181   182          Kahaleel Karet                 kkaret51@blogspot.com         Male    6.5\n",
      "182   183            Tuck Lampett                tlampett52@skyrock.com         Male    9.9\n",
      "183   184            Joann Cianni            jcianni53@chronoengine.com       Female    8.6\n",
      "184   185           Avictor Delea                 adelea54@engadget.com         Male    5.6\n",
      "185   186        Domenic Courtney          dcourtney55@reverbnation.com         Male    4.6\n",
      "186   187        Lonnie Overshott                lovershott56@cam.ac.uk   Non-binary    5.4\n",
      "187   188      Aurthur Chittenden               achittenden57@nifty.com         Male    4.4\n",
      "188   189        Cortie Pingstone               cpingstone58@senate.gov         Male    1.3\n",
      "189   190          Sanson Doodson            sdoodson59@dailymail.co.uk         Male    7.8\n",
      "190   191       Harrison Presslee                    hpresslee5a@a8.net  Genderqueer    8.1\n",
      "191   192          Nanon Tremayle            ntremayle5b@mayoclinic.com       Female    6.5\n",
      "192   193          Mischa Peacham              mpeacham5c@delicious.com         Male    4.5\n",
      "193   194           Kristian Zeal                  kzeal5d@usatoday.com         Male    8.2\n",
      "194   195      Gabriell Beveridge             gbeveridge5e@sakura.ne.jp       Female    7.5\n",
      "195   196            Magnum Batte                        mbatte5f@de.vu         Male    4.0\n",
      "196   197             Holly Clerc                  hclerc5g@webnode.com         Male    2.2\n",
      "197   198     Petronella Wasselin                pwasselin5h@jalbum.net       Female    1.3\n",
      "198   199         Rozella Maylard                 rmaylard5i@oracle.com       Female    4.8\n",
      "199   200            Rheba Leneve                rleneve5j@sakura.ne.jp       Female    1.0\n",
      "200   201          Deana Lodemann                 dlodemann5k@topsy.com       Female    2.3\n",
      "201   202             Bryon Calfe                bcalfe5l@indiegogo.com         Male    5.1\n",
      "202   203           Monro Bonwell                  mbonwell5m@google.ca         Male    7.2\n",
      "203   204           Shannen Sworn                 ssworn5n@omniture.com       Female    8.7\n",
      "204   205         Gunner Spadelli               gspadelli5o@myspace.com         Male    8.6\n",
      "205   206         Fletch Robottom                    frobottom5p@cbc.ca         Male    9.0\n",
      "206   207          Matthieu Dudny                  mdudny5q@walmart.com         Male    4.0\n",
      "207   208           Kaycee Breede               kbreede5r@blinklist.com       Female    4.1\n",
      "208   209         Fredelia Carlos                fcarlos5s@omniture.com       Female    3.9\n",
      "209   210             Kelli Eyton                 keyton5t@slashdot.org       Female    2.9\n",
      "210   211      Forbes Baskeyfield               fbaskeyfield5u@lulu.com         Male    1.6\n",
      "211   212         Randell Couzens                   rcouzens5v@yelp.com         Male    8.3\n",
      "212   213         Rahal Temperton               rtemperton5w@unicef.org       Female    8.6\n",
      "213   214            Clarke Vayne                   cvayne5x@eepurl.com         Male    2.3\n",
      "214   215          Laurie Whitten          lwhitten5y@printfriendly.com       Female    8.8\n",
      "215   216            Rudy De Vere              rde5z@barnesandnoble.com         Male    8.5\n",
      "216   217      Bernadene O'Corren                   bocorren60@fema.gov       Female    4.1\n",
      "217   218         Kathi Butterley              kbutterley61@archive.org       Female    3.0\n",
      "218   219         Esmaria Blofeld                eblofeld62@webnode.com       Female    7.2\n",
      "219   220        Vaughan Yglesias                vyglesias63@abc.net.au         Male    2.8\n",
      "220   221        Jason Alliberton               jalliberton64@bbc.co.uk         Male    9.2\n",
      "221   222        Rudiger Fielding                rfielding65@scribd.com         Male    9.9\n",
      "222   223           Gilda Ridolfo             gridolfo66@indiatimes.com       Female    8.8\n",
      "223   224     Filberte Brownfield         fbrownfield67@bizjournals.com         Male    3.0\n",
      "224   225         Royall Giddings                   rgiddings68@php.net         Male    7.2\n",
      "225   226       Anjela D'Ambrosio                adambrosio69@cisco.com       Female    5.1\n",
      "226   227              Flin Stoke                     fstoke6a@hibu.com         Male    1.7\n",
      "227   228            Art Sweetsur           asweetsur6b@list-manage.com         Male    1.8\n",
      "228   229         Shelagh Ducarne                  sducarne6c@apple.com       Female    7.9\n",
      "229   230          Arlette McAdam                 amcadam6d@myspace.com       Female    6.7\n",
      "230   231          Therese Dagnan            tdagnan6e@businessweek.com       Female    1.6\n",
      "231   232     Barbaraanne Donohoe                  bdonohoe6f@webmd.com     Bigender    8.3\n",
      "232   233           Roseann Paley               rpaley6g@thetimes.co.uk       Female    9.7\n",
      "233   234            Dew Gockelen                   dgockelen6h@fc2.com         Male    4.9\n",
      "234   235              Kale Lazar                    klazar6i@topsy.com         Male    4.6\n",
      "235   236            Felix Mounce                    fmounce6j@army.mil         Male    7.1\n",
      "236   237            Aldrich Wash                      awash6k@blog.com         Male    6.6\n",
      "237   238           Alina Whitton               awhitton6l@mapquest.com       Female    1.7\n",
      "238   239         Isadora Meddick               imeddick6m@freewebs.com       Female    5.2\n",
      "239   240        Galina Rowbottam                growbottam6n@weibo.com       Female    7.4\n",
      "240   241      Clarance Bradfield                   cbradfield6o@un.org  Genderqueer    7.9\n",
      "241   242         Herrick Caddens                  hcaddens6p@phpbb.com         Male    7.5\n",
      "242   243        Hedvige MacGiany                 hmacgiany6q@jimdo.com       Female    8.8\n",
      "243   244            Ailey Powton             apowton6r@yellowpages.com       Female    7.3\n",
      "244   245          Sayer Belchamp                    sbelchamp6s@qq.com         Male    2.2\n",
      "245   246         Darsie Mozzetti                dmozzetti6t@drupal.org       Female    9.7\n",
      "246   247       Christiana Lawson                  clawson6u@ebay.co.uk       Female    4.0\n",
      "247   248         Granville Franz                     gfranz6v@phoca.cz         Male    3.3\n",
      "248   249            Eadie Arnell                       earnell6w@de.vu       Female    8.1\n",
      "249   250         Teodoor Readwin               treadwin6x@addtoany.com         Male    3.1\n",
      "250   251       Patience Garfield                 pgarfield6y@phpbb.com       Female    1.7\n",
      "251   252            Reid Kilbane                    rkilbane6z@sun.com         Male    2.2\n",
      "252   253            Nanny Duddle                nduddle70@addtoany.com       Female    7.6\n",
      "253   254     Cariotta Hollington          chollington71@whitehouse.gov       Female    9.7\n",
      "254   255           Melosa Bubeer                  mbubeer72@tripod.com       Female    5.4\n",
      "255   256            Geri Hambric                ghambric73@mozilla.org       Female    7.4\n",
      "256   257             Eryn Joslin             ejoslin74@arstechnica.com       Female    7.5\n",
      "257   258         Jillana O'Cahey                     jocahey75@soup.io       Female    1.5\n",
      "258   259          Lilly Gallaher            lgallaher76@indiatimes.com       Female    4.8\n",
      "259   260             Kimball Pea                       kpea77@ucla.edu         Male    4.6\n",
      "260   261         Zebulen Ruckert                 zruckert78@github.com   Polygender    1.5\n",
      "261   262             Lissy Canby                    lcanby79@europa.eu       Female    8.3\n",
      "262   263              Berne Page              bpage7a@miitbeian.gov.cn         Male    1.9\n",
      "263   264        Tyrone Danielian                   tdanielian7b@un.org         Male    8.3\n",
      "264   265         Seline Winskill          swinskill7c@businesswire.com       Female    1.3\n",
      "265   266         Ameline Fozzard                 afozzard7d@cdbaby.com       Female    4.3\n",
      "266   267      Catherin McMichael              cmcmichael7e@youtube.com       Female    4.2\n",
      "267   268        Corabelle Kubica               ckubica7f@economist.com       Female    1.8\n",
      "268   269           Melisa Rummin                     mrummin7g@mac.com       Female    3.9\n",
      "269   270       Courtenay Macbane                     cmacbane7h@goo.gl       Female    9.7\n",
      "270   271       Timothy Harmeston                tharmeston7i@skype.com         Male    8.3\n",
      "271   272             Bruce Alvar                balvar7j@amazonaws.com         Male    5.2\n",
      "272   273          Alisa Dalinder             adalinder7k@discovery.com       Female    8.3\n",
      "273   274    Aprilette Pettingill            apettingill7l@engadget.com       Female    3.6\n",
      "274   275           Natty Ebbotts             nebbotts7m@prnewswire.com  Genderqueer    2.2\n",
      "275   276            Gertie Meade                gmeade7n@discovery.com       Female    5.7\n",
      "276   277        Melinda Josovich        mjosovich7o@simplemachines.org       Female    2.6\n",
      "277   278         Vlad Heartfield             vheartfield7p@yahoo.co.jp         Male    6.8\n",
      "278   279           Lena Roulston              lroulston7q@geocities.jp       Female    9.5\n",
      "279   280        Demetra Maciejak          dmaciejak7r@biblegateway.com       Female    5.7\n",
      "280   281       Jacquette Smeaton               jsmeaton7s@google.co.jp       Female    5.3\n",
      "281   282          Darleen Banger                 dbanger7t@youtube.com       Female    5.6\n",
      "282   283          Eugen Llorente           ellorente7u@miibeian.gov.cn         Male    3.5\n",
      "283   284    Conrade Dellenbroker               cdellenbroker7v@nba.com         Male    2.6\n",
      "284   285         Grantley Godard                    ggodard7w@live.com         Male    4.4\n",
      "285   286            Alli Le Surf                       ale7x@fotki.com       Female    3.8\n",
      "286   287       William Sabberton               wsabberton7y@rediff.com         Male    7.3\n",
      "287   288              Paxton Ert                    pert7z@cbsnews.com         Male    5.3\n",
      "288   289        Blanca Fearnside           bfearnside80@friendfeed.com       Female    2.8\n",
      "289   290         Trudey Endecott                 tendecott81@prweb.com       Female    9.8\n",
      "290   291          Pammy Heathorn               pheathorn82@state.tx.us       Female    9.4\n",
      "291   292              Nolana Roo                        nroo83@irs.gov       Female    9.4\n",
      "292   293             Hilly Guard                     hguard84@imdb.com         Male    8.4\n",
      "293   294            Alric Clemon                   aclemon85@baidu.com         Male    1.9\n",
      "294   295         Pascal Kavanagh                pkavanagh86@senate.gov         Male    1.6\n",
      "295   296       Regan Kharchinski           rkharchinski87@so-net.ne.jp  Genderqueer    7.8\n",
      "296   297        Andres Claughton           aclaughton88@shutterfly.com         Male    2.0\n",
      "297   298          Izabel Fereday              ifereday89@123-reg.co.uk       Female    8.5\n",
      "298   299       Anallise Bendtsen                   abendtsen8a@ibm.com       Female    9.9\n",
      "299   300           Lorita Bowser                 lbowser8b@tinyurl.com   Polygender    2.1\n",
      "300   301          Abran Sickling             asickling8c@mediafire.com         Male    4.7\n",
      "301   302           Allegra Bande                 abande8d@usatoday.com       Female    7.1\n",
      "302   303            Gabie Arnatt                 garnatt8e@dropbox.com       Female    4.8\n",
      "303   304            Sherm Hamill              shamill8f@eventbrite.com         Male    4.8\n",
      "304   305          Allyn Kruschev             akruschev8g@mediafire.com   Polygender    8.6\n",
      "305   306       Malachi Nemchinov                mnemchinov8h@hc360.com         Male    5.6\n",
      "306   307        Zebulon Woodfine                  zwoodfine8i@usda.gov         Male    2.7\n",
      "307   308     Sebastien Goodbairn            sgoodbairn8j@clickbank.net         Male    7.1\n",
      "308   309         Jennifer Becket               jbecket8k@economist.com       Female    6.9\n",
      "309   310       Whittaker Scedall            wscedall8l@theguardian.com         Male    5.1\n",
      "310   311       Franky Josskovitz                fjosskovitz8m@gmpg.org       Female    9.7\n",
      "311   312               Waneta Yu                   wyu8n@xinhuanet.com       Female    2.5\n",
      "312   313        Gottfried Coffin                 gcoffin8o@mozilla.com         Male    4.4\n",
      "313   314      Delcine Giovanizio              dgiovanizio8p@disqus.com       Female    1.7\n",
      "314   315         Ingeberg Fearey              ifearey8q@infoseek.co.jp       Female    3.0\n",
      "315   316            Viv Napoleon               vnapoleon8r@samsung.com   Non-binary    1.4\n",
      "316   317         Davide Edbrooke                 dedbrooke8s@github.io         Male    2.4\n",
      "317   318          Osborn Bartlet                 obartlet8t@apache.org         Male    6.4\n",
      "318   319         Jorgan Brandoni                jbrandoni8u@flavors.me         Male    5.4\n",
      "319   320            Ariana Evett                     aevett8v@sohu.com       Female    5.4\n",
      "320   321            Mischa Micka                 mmicka8w@bluehost.com         Male    9.3\n",
      "321   322      Cherrita Decayette                  cdecayette8x@com.com       Female    1.9\n",
      "322   323        Faustina Hillatt               fhillatt8y@google.co.jp       Female    1.1\n",
      "323   324             Astrid Hawk                 ahawk8z@xinhuanet.com       Female    9.8\n",
      "324   325         Rivalee Findlay                rfindlay90@reuters.com       Female    1.7\n",
      "325   326              Madel Rush                    mrush91@tripod.com       Female    6.7\n",
      "326   327       Alejandra Cesaric            acesaric92@nydailynews.com  Genderqueer    1.4\n",
      "327   328        Basilius Premble          bpremble93@elegantthemes.com         Male    4.3\n",
      "328   329     Jaquenette Newhouse                jnewhouse94@discuz.net       Female    5.7\n",
      "329   330      Clevie Quarrington       cquarrington95@reverbnation.com      Agender    3.6\n",
      "330   331             Bing Dinsey         bdinsey96@acquirethisname.com         Male    8.6\n",
      "331   332          Clemens Basant                  cbasant97@rambler.ru         Male    7.6\n",
      "332   333            Dukey Dorney                  ddorney98@netlog.com         Male    7.4\n",
      "333   334          Alice Smorthit             asmorthit99@reference.com   Non-binary    3.0\n",
      "334   335            Mathe Haward               mhaward9a@hostgator.com         Male    9.3\n",
      "335   336        Philbert Smewing          psmewing9b@sciencedirect.com         Male    5.2\n",
      "336   337        Anatole Chiechio                achiechio9c@tumblr.com         Male    8.0\n",
      "337   338           Lotti Quested                    lquested9d@unc.edu       Female    6.5\n",
      "338   339            Rubi Thrower             rthrower9e@privacy.gov.au       Female    8.0\n",
      "339   340          Gardener Camis               gcamis9f@yellowbook.com         Male    2.5\n",
      "340   341             Trish Hyman                thyman9g@wordpress.com       Female    8.5\n",
      "341   342            Nari Bannell                  nbannell9h@opera.com       Female    9.3\n",
      "342   343              Will Fahey                      wfahey9i@usa.gov         Male    8.2\n",
      "343   344           Riley Bonhome            rbonhome9j@yellowpages.com         Male    3.7\n",
      "344   345           Tandie Krolik             tkrolik9k@kickstarter.com       Female    2.7\n",
      "345   346           Brynna Keyser                     bkeyser9l@mac.com     Bigender    7.5\n",
      "346   347            Gayle Varcoe                gvarcoe9m@vkontakte.ru       Female    1.7\n",
      "347   348               Lea Beart                    lbeart9n@salon.com       Female    1.9\n",
      "348   349            Elsa Bordone                ebordone9o@squidoo.com       Female    8.8\n",
      "349   350       Bathsheba Maroney               bmaroney9p@amazon.co.uk       Female    6.3\n",
      "350   351          Mirella Meakes         mmeakes9q@acquirethisname.com       Female    1.0\n",
      "351   352        Rayshell Shippey                   rshippey9r@java.com       Female    3.5\n",
      "352   353          Quincy Spellar                    qspellar9s@soup.io         Male    3.2\n",
      "353   354         Garfield Cianni                      gcianni9t@gov.uk         Male    8.1\n",
      "354   355           Jereme Ballam                 jballam9u@webnode.com         Male    9.6\n",
      "355   356             Tiff Origin                      torigin9v@goo.gl       Female    3.2\n",
      "356   357          Torrie Curnnok            tcurnnok9w@list-manage.com       Female    5.9\n",
      "357   358          Blanche Chowne                  bchowne9x@nature.com   Non-binary    2.0\n",
      "358   359         Aristotle Siely             asiely9y@seattletimes.com         Male    6.3\n",
      "359   360          Erica Grandham            egrandham9z@altervista.org       Female    4.6\n",
      "360   361        Micah McGoldrick                  mmcgoldricka0@ca.gov         Male    5.2\n",
      "361   362      Leupold MacKissack             lmackissacka1@twitpic.com         Male    5.3\n",
      "362   363          Germaine Oliva                  golivaa2@smugmug.com       Female    2.7\n",
      "363   364            Clark Bounds                 cboundsa3@weather.com         Male    4.5\n",
      "364   365              Beck Olver                  bolvera4@myspace.com         Male    7.9\n",
      "365   366            Ban Worshall              bworshalla5@trellian.com         Male    5.9\n",
      "366   367            Odo Johansen              ojohansena6@mashable.com         Male    7.5\n",
      "367   368              Yank Kemme           ykemmea7@simplemachines.org         Male    6.2\n",
      "368   369      Amberly Simoneschi              asimoneschia8@discuz.net       Female    4.2\n",
      "369   370         Juditha Pittham                  jpitthama9@lycos.com       Female    9.2\n",
      "370   371              Graig Wane                gwaneaa@shareasale.com         Male    8.1\n",
      "371   372         Bernhard Reimer                    breimerab@ning.com         Male    1.4\n",
      "372   373              York Guite                 yguiteac@china.com.cn         Male    3.8\n",
      "373   374             Bar Lockier              blockierad@tuttocitta.it         Male    9.3\n",
      "374   375          Prent Ranvoise         pranvoiseae@ezinearticles.com         Male    9.2\n",
      "375   376          Ennis Andreini                eandreiniaf@flavors.me         Male    7.4\n",
      "376   377          Siward Skipton                 sskiptonag@oracle.com         Male    3.6\n",
      "377   378         Augustine Rouff                 arouffah@usatoday.com  Genderfluid    5.4\n",
      "378   379         Lorrayne Parren                    lparrenai@narod.ru       Female    6.6\n",
      "379   380             Owen Irving                oirvingaj@netscape.com         Male    7.1\n",
      "380   381        Rosaline Baribal                  rbaribalak@google.it       Female    6.8\n",
      "381   382           Yancy Yurinov                 yyurinoval@tumblr.com         Male    3.2\n",
      "382   383          Elianore Skeen              eskeenam@kickstarter.com       Female    1.6\n",
      "383   384        Amerigo Corbould               acorbouldan@typepad.com         Male    8.5\n",
      "384   385             Arleen Rehn                      arehnao@lulu.com       Female    5.4\n",
      "385   386            Avram Sokill                     asokillap@psu.edu         Male    9.5\n",
      "386   387            Milty Gerold                 mgeroldaq@booking.com         Male    3.1\n",
      "387   388         Ozzie Sabberton              osabbertonar@walmart.com         Male    1.8\n",
      "388   389          Vincenz Kardos              vkardosas@opensource.org         Male    6.6\n",
      "389   390        Yetty Shrubshall                yshrubshallat@fema.gov       Female   10.0\n",
      "390   391           Lexine Biggar                   lbiggarau@patch.com       Female    7.3\n",
      "391   392            Jamal Wooder                    jwooderav@ucla.edu         Male    7.1\n",
      "392   393          Emelen Aldritt           ealdrittaw@chronoengine.com         Male    4.2\n",
      "393   394         Tadeo Freschini               tfreschiniax@google.com   Polygender    3.2\n",
      "394   395           Donovan Hearn               dhearnay@mayoclinic.com         Male    2.7\n",
      "395   396           Waldo Coslett          wcoslettaz@timesonline.co.uk         Male    1.9\n",
      "396   397         Kinnie O'Fergus            kofergusb0@yellowpages.com         Male    7.9\n",
      "397   398           Malinde Cokly                 mcoklyb1@blogspot.com  Genderqueer    3.5\n",
      "398   399           Dannie Verzey                     dverzeyb2@ask.com         Male    6.4\n",
      "399   400              Olvan Roma                      oromab3@jugem.jp         Male    7.0\n",
      "400   401        Phineas Blackler                   pblacklerb4@loc.gov         Male    2.9\n",
      "401   402        Darb Bellchamber          dbellchamberb5@wikipedia.org       Female    1.2\n",
      "402   403                 Ag Noad             anoadb6@blogtalkradio.com       Female    4.1\n",
      "403   404              Benni Jeal                 bjealb7@parallels.com       Female    1.5\n",
      "404   405              Rhea Asmus               rasmusb8@feedburner.com       Female    6.7\n",
      "405   406           Eddie Filyaev                  efilyaevb9@wiley.com         Male    3.1\n",
      "406   407   Ferrel Erskine Sandys                    ferskineba@fda.gov         Male    2.0\n",
      "407   408       Perren Edmonstone          pedmonstonebb@wikispaces.com   Polygender    8.7\n",
      "408   409          Vance Balsdone                  vbalsdonebc@java.com         Male    9.0\n",
      "409   410         Elbertina Blaza                    eblazabd@europa.eu      Agender    1.9\n",
      "410   411        Nicolais Donegan                 ndoneganbe@oakley.com         Male    4.8\n",
      "411   412          Bealle Leynton               bleyntonbf@omniture.com         Male    6.6\n",
      "412   413          Sidoney Louche                 slouchebg@youtube.com       Female    4.0\n",
      "413   414     Mitchael Iozefovich         miozefovichbh@marketwatch.com         Male    7.9\n",
      "414   415            Charo Rosita                  crositabi@boston.com       Female    9.9\n",
      "415   416         Klara Readshall            kreadshallbj@discovery.com       Female    2.3\n",
      "416   417        Luci Merrywether           lmerrywetherbk@china.com.cn       Female    2.8\n",
      "417   418          Jimmy Hattrick              jhattrickbl@netscape.com         Male   10.0\n",
      "418   419           Charin Dyster                      cdysterbm@un.org       Female    4.4\n",
      "419   420        Tuckie Pietrasik      tpietrasikbn@merriam-webster.com         Male    3.0\n",
      "420   421         Terrye Brunelli                tbrunellibo@tripod.com   Non-binary    3.0\n",
      "421   422          Perice Kiddell           pkiddellbp@sciencedaily.com         Male    4.7\n",
      "422   423         Adiana McCluney               amccluneybq@behance.net       Female    5.6\n",
      "423   424     Orlando Wasielewski          owasielewskibr@economist.com         Male    6.7\n",
      "424   425           Thorn Bythell               tbythellbs@springer.com         Male    6.4\n",
      "425   426         Rafa Messingham          rmessinghambt@cloudflare.com  Genderqueer    1.2\n",
      "426   427          Quint Bewfield             qbewfieldbu@newyorker.com         Male    9.6\n",
      "427   428           Amelia Klejna                  aklejnabv@flavors.me       Female    6.6\n",
      "428   429        Finlay Antonioni                fantonionibw@sogou.com         Male    4.0\n",
      "429   430           Remus Sapseed                 rsapseedbx@sfgate.com         Male    9.0\n",
      "430   431      Alyosha Cobbledick                 acobbledickby@epa.gov         Male    8.2\n",
      "431   432          Annetta Wenman                    awenmanbz@lulu.com       Female    8.5\n",
      "432   433      Romola Challicombe            rchallicombec0@twitpic.com       Female    5.7\n",
      "433   434        Oliviero Lettice                oletticec1@sina.com.cn   Polygender    8.0\n",
      "434   435         Godfry Ashpital           gashpitalc2@tripadvisor.com         Male    6.5\n",
      "435   436           Nevins Whiles                   nwhilesc3@nifty.com         Male    2.3\n",
      "436   437             Alex O'Hone                  aohonec4@godaddy.com       Female    3.0\n",
      "437   438       Ophelie Ledington                oledingtonc5@google.es       Female    3.9\n",
      "438   439            Merrill Cudd                          mcuddc6@g.co         Male    7.0\n",
      "439   440        Tiebout Kalinsky                 tkalinskyc7@state.gov         Male    1.9\n",
      "440   441          Ford Laugharne           flaugharnec8@wikispaces.com         Male    5.5\n",
      "441   442            Filip Coping                   fcopingc9@jigsy.com         Male    6.6\n",
      "442   443         Amberly Crissil                    acrissilca@wix.com       Female    4.8\n",
      "443   444       Robyn Baskeyfield         rbaskeyfieldcb@infoseek.co.jp      Agender    2.0\n",
      "444   445           Wendall Peggs                   wpeggscc@scribd.com         Male    2.8\n",
      "445   446           Zorine Bruyet                 zbruyetcd@tinyurl.com       Female    3.3\n",
      "446   447            Alida Colles               acollesce@csmonitor.com       Female    2.0\n",
      "447   448         Milly Doghartie              mdoghartiecf@reuters.com       Female    3.9\n",
      "448   449            Ardra Rawsen                  arawsencg@disqus.com       Female    8.3\n",
      "449   450         Sargent Calverd          scalverdch@blogtalkradio.com         Male    1.0\n",
      "450   451       Bendick Ormistone             bormistoneci@yolasite.com         Male    7.5\n",
      "451   452        Patty Avramovich           pavramovichcj@google.com.au       Female    9.8\n",
      "452   453           Freeland Rose                      froseck@uiuc.edu         Male    4.1\n",
      "453   454            Fanni Burren                     fburrencl@ftc.gov       Female    2.5\n",
      "454   455            Pen Thomazet                   pthomazetcm@ovh.net       Female    8.6\n",
      "455   456         Prentice Olliar                     polliarcn@msn.com         Male    3.0\n",
      "456   457          Taber McCraine                tmccraineco@forbes.com         Male    4.6\n",
      "457   458          Dimitry Hotson                   dhotsoncp@google.es         Male    4.2\n",
      "458   459        Cassandra Staley            cstaleycq@biblegateway.com       Female    4.9\n",
      "459   460       Mordecai Goodreid             mgoodreidcr@bloomberg.com         Male    7.2\n",
      "460   461            Bobby Moncur                   bmoncurcs@cisco.com         Male    4.7\n",
      "461   462            Alissa Alvin                   aalvinct@rambler.ru       Female    1.4\n",
      "462   463       Lillian Pottberry       lpottberrycu@simplemachines.org       Female    4.8\n",
      "463   464      Barbaraanne McGlew             bmcglewcv@hugedomains.com       Female    8.5\n",
      "464   465             Maxie Aston                  mastoncw@yahoo.co.jp       Female    8.0\n",
      "465   466            Diena Calkin                   dcalkincx@state.gov       Female    4.2\n",
      "466   467         Theressa Fasham                   tfashamcy@yahoo.com       Female    6.8\n",
      "467   468              Chane Dand               cdandcz@telegraph.co.uk         Male    9.9\n",
      "468   469       Jazmin Antonomoli                 jantonomolid0@last.fm       Female    6.1\n",
      "469   470             Niels Kment                    nkmentd1@sogou.com  Genderfluid    7.9\n",
      "470   471         Korrie Kerswill               kkerswilld2@squidoo.com       Female    6.4\n",
      "471   472          Lyman Waistall                 lwaistalld3@naver.com         Male    3.8\n",
      "472   473           Christy Maben           cmabend4@simplemachines.org       Female    6.1\n",
      "473   474       Andrew O'Docherty              aodochertyd5@sina.com.cn         Male    1.7\n",
      "474   475          Amabelle Wyley                   awyleyd6@disqus.com       Female    9.9\n",
      "475   476        Euell Seivertsen              eseivertsend7@discuz.net         Male    8.6\n",
      "476   477            Esdras Lauga                      elaugad8@npr.org         Male    7.2\n",
      "477   478        Alida Scholfield         ascholfieldd9@studiopress.com       Female    2.9\n",
      "478   479         Tracey Eickhoff             teickhoffda@angelfire.com       Female    7.1\n",
      "479   480        Danell Di Pietro                    ddidb@slashdot.org       Female    4.0\n",
      "480   481       Mirabella Sneezum              msneezumdc@posterous.com       Female    3.6\n",
      "481   482       Jackquelin Langan                 jlangandd@tinypic.com       Female    5.0\n",
      "482   483           Bridie Jelley         bjelleyde@constantcontact.com       Female    8.8\n",
      "483   484                Mac Gold                       mgolddf@irs.gov         Male    5.1\n",
      "484   485             Bar Pechold                bpecholddg@addthis.com         Male    4.8\n",
      "485   486          Durand Sushams                  dsushamsdh@google.it         Male    6.9\n",
      "486   487         Kendre Bromilow           kbromilowdi@kickstarter.com       Female    4.9\n",
      "487   488            Frankie Dack                fdackdj@purevolume.com         Male    2.7\n",
      "488   489          Alyda Petracek            apetracekdk@friendfeed.com       Female    1.2\n",
      "489   490            Wynny Lerigo              wlerigodl@privacy.gov.au       Female    4.2\n",
      "490   491          Greggory Ruddy                      gruddydm@dot.gov         Male    3.2\n",
      "491   492       Hermione Lewisham            hlewishamdn@mayoclinic.com       Female    8.8\n",
      "492   493            Dru Gandrich             dgandrichdo@moonfruit.com       Female    6.6\n",
      "493   494          Montague Rupke               mrupkedp@mayoclinic.com         Male    7.3\n",
      "494   495          Lynea Bleakman         lbleakmandq@blogtalkradio.com       Female    3.0\n",
      "495   496          Paloma McCurdy                  pmccurdydr@nifty.com       Female    4.2\n",
      "496   497          Dewitt Arrault                  darraultds@amazon.de  Genderqueer    9.3\n",
      "497   498          Donnie Wohlers                    dwohlersdt@gnu.org       Female    7.4\n",
      "498   499     Renault MacGilfoyle                rmacgilfoyledu@mac.com         Male    2.5\n",
      "499   500            Krishna Liff                  kliffdv@hubpages.com         Male    8.5\n",
      "500   501            Lowell Iddon          liddondw@acquirethisname.com         Male    1.9\n",
      "501   502             Dov Luparti                  dlupartidx@google.cn      Agender    1.1\n",
      "502   503          Clarence Legon                   clegondy@cdbaby.com         Male    8.9\n",
      "503   504         Elsinore Bullas                 ebullasdz@nytimes.com       Female    4.8\n",
      "504   505            Misty Robart                 mrobarte0@nytimes.com       Female    4.8\n",
      "505   506         Ruthann Drayson             rdraysone1@whitehouse.gov       Female    3.0\n",
      "506   507           Corri Barrass                   cbarrasse2@dell.com       Female    2.1\n",
      "507   508         Dede Matterface                dmatterfacee3@noaa.gov       Female    9.5\n",
      "508   509          Algernon Dohms                    adohmse4@google.ru         Male    1.4\n",
      "509   510          Uri Thirkettle            uthirkettlee5@springer.com         Male    3.7\n",
      "510   511       Gregorio Hemphrey                 ghemphreye6@umich.edu         Male    2.4\n",
      "511   512        Hugo Delgardillo           hdelgardilloe7@slashdot.org         Male    4.5\n",
      "512   513           Margi Allgood                mallgoode8@twitter.com       Female    6.4\n",
      "513   514         Walther Cottage                    wcottagee9@mit.edu         Male    1.7\n",
      "514   515              Chadd Azam                 cazamea@people.com.cn         Male    8.8\n",
      "515   516        Fielding Lapping                  flappingeb@github.io      Agender    9.9\n",
      "516   517           Addie Jindrak              ajindrakec@indiegogo.com         Male    4.6\n",
      "517   518            Milty Hiscoe                 mhiscoeed@plala.or.jp         Male    3.7\n",
      "518   519           Annis Gretton                 agrettonee@rambler.ru       Female    6.7\n",
      "519   520         Rosmunda Withey                  rwitheyef@devhub.com  Genderfluid    2.0\n",
      "520   521           Pet Haresnape               pharesnapeeg@disqus.com       Female    7.0\n",
      "521   522        Zandra McCaughen             zmccaugheneh@sakura.ne.jp       Female    9.1\n",
      "522   523            Lars Bradley           lbradleyei@biblegateway.com         Male    8.1\n",
      "523   524           Madelon Jewer                 mjewerej@amazon.co.jp     Bigender    2.1\n",
      "524   525          Emile Cosgrive                  ecosgriveek@blog.com         Male    7.4\n",
      "525   526          Danella Stolte             dstolteel@dailymotion.com       Female    8.5\n",
      "526   527         Kerwinn Morales            kmoralesem@istockphoto.com         Male    2.9\n",
      "527   528             Ax Colquitt           acolquitten@telegraph.co.uk         Male    5.6\n",
      "528   529          Baillie Blampy                   bblampyeo@sogou.com         Male    1.6\n",
      "529   530          Wake Cardenoso                  wcardenosoep@last.fm   Non-binary    4.0\n",
      "530   531         Hermina Hadland                     hhadlandeq@si.edu       Female    7.7\n",
      "531   532         Renate Manclark           rmanclarker@cyberchimps.com       Female    5.3\n",
      "532   533             Codie Lyddy                   clyddyes@utexas.edu  Genderqueer    3.1\n",
      "533   534         Vidovic Russell                   vrussellet@lulu.com      Agender    5.7\n",
      "534   535          Sallyann Kupis                      skupiseu@nyu.edu       Female    9.3\n",
      "535   536           Lesley Filkov                 lfilkovev@archive.org       Female    8.5\n",
      "536   537            Eric Chapier                  echapierew@google.it         Male    5.7\n",
      "537   538         Lurleen Magrane              lmagraneex@clickbank.net       Female    3.8\n",
      "538   539       Carlen De La Haye                        cdeey@ebay.com       Female    8.3\n",
      "539   540            Arin Songist                   asongistez@lulu.com         Male    9.8\n",
      "540   541          Isidro Sendall                isendallf0@twitter.com   Non-binary    9.4\n",
      "541   542            Judah Dawton                   jdawtonf1@zdnet.com         Male    5.1\n",
      "542   543       Jeannette Brayley                   jbrayleyf2@dmoz.org       Female    3.0\n",
      "543   544         Ginelle Skeates             gskeatesf3@opensource.org       Female    3.0\n",
      "544   545            Nyssa Alldis           nalldisf4@ezinearticles.com       Female    1.6\n",
      "545   546              Dari Slane                      dslanef5@cnn.com       Female    4.0\n",
      "546   547            Angie Excell           aexcellf6@howstuffworks.com       Female    5.5\n",
      "547   548           Garrek Newlin                      gnewlinf7@ed.gov         Male    9.0\n",
      "548   549              Brand Alvy                      balvyf8@noaa.gov         Male    5.5\n",
      "549   550              Barr Strut                bstrutf9@reference.com      Agender    4.5\n",
      "550   551           Boigie Skewes                 bskewesfa@behance.net         Male    1.5\n",
      "551   552            Dina Munning               dmunningfb@japanpost.jp       Female    3.7\n",
      "552   553             Lissa Colum                  lcolumfc@reuters.com       Female    7.2\n",
      "553   554        Jaquenetta Ryson                        jrysonfd@is.gd       Female    8.6\n",
      "554   555         Herrick Merwood              hmerwoodfe@newyorker.com         Male    3.4\n",
      "555   556        Merrili Dederick               mdederickff@booking.com       Female    2.7\n",
      "556   557            Blayne Latey                  blateyfg@foxnews.com         Male    6.1\n",
      "557   558           La verne Maso              lvernefh@dailymail.co.uk       Female    4.2\n",
      "558   559       Matelda MacGibbon               mmacgibbonfi@reddit.com       Female    3.5\n",
      "559   560             Angy Bertot                 abertotfj@yahoo.co.jp       Female    5.4\n",
      "560   561           Stavro Breton                  sbretonfk@netlog.com         Male    4.7\n",
      "561   562         Lombard Seamons                  lseamonsfl@google.ca         Male    2.2\n",
      "562   563         Homere Postance          hpostancefm@chronoengine.com         Male    9.9\n",
      "563   564              Nahum Lube                      nlubefn@blog.com         Male    2.9\n",
      "564   565             Isobel Dace                       idacefo@tiny.cc       Female    5.8\n",
      "565   566             Patsy Pimer                      ppimerfp@ted.com       Female    9.1\n",
      "566   567            Hakeem Firpo                      hfirpofq@mit.edu         Male    7.0\n",
      "567   568          Enrique Geeson              egeesonfr@guardian.co.uk         Male    5.9\n",
      "568   569           Silvie Dunphy                   sdunphyfs@europa.eu       Female    7.4\n",
      "569   570               Nap Ryles                       nrylesft@vk.com  Genderfluid    9.3\n",
      "570   571            Becka Hacaud                    bhacaudfu@yale.edu       Female    8.0\n",
      "571   572        Leonid Chipchase                  lchipchasefv@hud.gov         Male    7.0\n",
      "572   573            Inigo Dudill                 idudillfw@harvard.edu         Male    9.3\n",
      "573   574          Jolie Danbrook             jdanbrookfx@artisteer.com       Female    9.4\n",
      "574   575            Harv Tipling                   htiplingfy@ox.ac.uk         Male    5.6\n",
      "575   576          Carly Calveley                   ccalveleyfz@icq.com         Male    1.9\n",
      "576   577           Filip Gibbett                   fgibbettg0@jugem.jp   Polygender    9.8\n",
      "577   578           Eamon Fraczak                   efraczakg1@xing.com         Male    9.7\n",
      "578   579       Pincas Titterrell            ptitterrellg2@multiply.com   Polygender    9.9\n",
      "579   580          Ali Burtwistle       aburtwistleg3@howstuffworks.com       Female    8.0\n",
      "580   581              Zia Tomney                  ztomneyg4@joomla.org       Female    7.6\n",
      "581   582           Raeann Lloyds                   rlloydsg5@sogou.com  Genderqueer    2.1\n",
      "582   583       Glory Pettendrich              gpettendrichg6@prweb.com       Female    8.0\n",
      "583   584        Cynthia Hucknall                  chucknallg7@wisc.edu       Female    9.3\n",
      "584   585              Fiann Zute                  fzuteg8@mapquest.com       Female    1.3\n",
      "585   586            Ivonne Lynam                    ilynamg9@nifty.com   Non-binary    5.2\n",
      "586   587            Tate Meachen               tmeachenga@vkontakte.ru         Male    9.0\n",
      "587   588             Stearn Rafe                 srafegb@princeton.edu         Male    1.8\n",
      "588   589           Lucius Phette                lphettegc@so-net.ne.jp         Male    1.9\n",
      "589   590          Neille Detloff                   ndetloffgd@hibu.com       Female    9.3\n",
      "590   591           Maddy Sirkett            msirkettge@theatlantic.com         Male    9.3\n",
      "591   592          Branden Antoni           bantonigf@sciencedirect.com         Male    7.1\n",
      "592   593            Clarine Doll                       cdollgg@fda.gov       Female    7.9\n",
      "593   594         Crystal Goadsby                     cgoadsbygh@nhs.uk       Female    9.3\n",
      "594   595            Vale Osgarby                    vosgarbygi@ftc.gov       Female    3.2\n",
      "595   596        Terrence Fritche                  tfritchegj@amazon.de         Male    6.1\n",
      "596   597         Cameron Kubista               ckubistagk@symantec.com         Male    2.1\n",
      "597   598          Richard Urlich             rurlichgl@sourceforge.net         Male    7.7\n",
      "598   599        Arabelle Weathey            aweatheygm@theatlantic.com       Female    9.2\n",
      "599   600       Demetrius Nardrup               dnardrupgn@slashdot.org         Male    4.8\n",
      "600   601       Dominique Huncoot                   dhuncootgo@about.me         Male    6.4\n",
      "601   602       Glenna Colleymore                 gcolleymoregp@npr.org       Female    8.0\n",
      "602   603           Elwood Hedges                 ehedgesgq@comcast.net         Male    8.8\n",
      "603   604          Vannie Hambers                    vhambersgr@who.int       Female    9.7\n",
      "604   605         Reuben Manuelli                    rmanuelligs@wp.com         Male    3.1\n",
      "605   606           Alonzo Judkin                     ajudkingt@tiny.cc         Male    6.0\n",
      "606   607        Arlee Stenbridge     astenbridgegu@merriam-webster.com       Female    5.0\n",
      "607   608         Stefania Pascow                    spascowgv@hibu.com       Female    8.6\n",
      "608   609            Rafi Trustey               rtrusteygw@examiner.com         Male    6.0\n",
      "609   610          Obed Girogetti              ogirogettigx@booking.com         Male    8.6\n",
      "610   611       Peri Christiensen           pchristiensengy@example.com       Female    9.4\n",
      "611   612       Everard Costellow               ecostellowgz@uol.com.br         Male    6.8\n",
      "612   613            Jarid Capell                        jcapellh0@g.co         Male    4.7\n",
      "613   614           Rubin Mockler                  rmocklerh1@weibo.com         Male    3.1\n",
      "614   615        Sigvard Dockrell           sdockrellh2@cyberchimps.com         Male    9.2\n",
      "615   616             Dominga Esp                      desph3@nymag.com       Female    4.6\n",
      "616   617           Walton Yeskov             wyeskovh4@istockphoto.com         Male    1.6\n",
      "617   618              Mycah Jane                   mjaneh5@alibaba.com         Male    2.0\n",
      "618   619         Nicole Merrison                    nmerrisonh6@un.org       Female    3.2\n",
      "619   620         Chicky Lapthorn                   clapthornh7@last.fm         Male    6.2\n",
      "620   621         Cherey Besantie                      cbesantieh8@g.co       Female    8.0\n",
      "621   622       Quintilla Cornels              qcornelsh9@cafepress.com       Female    8.9\n",
      "622   623           Roseann McVee                     rmcveeha@furl.net       Female    6.5\n",
      "623   624       Maighdiln Pincott              mpincotthb@earthlink.net       Female    4.6\n",
      "624   625         Lisette Sambals                lsambalshc@t-online.de       Female    1.3\n",
      "625   626          Aile Stanfield            astanfieldhd@angelfire.com       Female    6.6\n",
      "626   627           Howie Gonneau              hgonneauhe@shinystat.com         Male    9.1\n",
      "627   628           Elsy Capstaff              ecapstaffhf@virginia.edu       Female    4.9\n",
      "628   629            Abagail Krug                     akrughg@yandex.ru      Agender    8.9\n",
      "629   630      Cecilio Brockherst                 cbrockhersthh@umn.edu         Male    7.7\n",
      "630   631      Clarinda Cicculini           ccicculinihi@shutterfly.com       Female    2.9\n",
      "631   632        Carlos De Launde                         cdehj@wix.com         Male    9.3\n",
      "632   633              Juli Wilde                   jwildehk@spiegel.de       Female    8.9\n",
      "633   634          Renata Kropach                  rkropachhl@diigo.com   Polygender    9.0\n",
      "634   635         Jorgan Mackerel                   jmackerelhm@irs.gov         Male    6.9\n",
      "635   636        Leela Shropshire            lshropshirehn@google.co.uk       Female    5.3\n",
      "636   637       Guthrey Vasyunkin            gvasyunkinho@microsoft.com         Male    1.9\n",
      "637   638        Brunhilde Astlet                    bastlethp@usda.gov       Female    8.3\n",
      "638   639         Quincey Gosnold               qgosnoldhq@newsvine.com         Male    5.7\n",
      "639   640           Geri Skeleton       gskeletonhr@merriam-webster.com         Male    6.3\n",
      "640   641          Mathilda Haker               mhakerhs@macromedia.com       Female    3.8\n",
      "641   642            Issie Baitey                   ibaiteyht@google.cn       Female    9.5\n",
      "642   643   Sutherland Beckinsale     sbeckinsalehu@merriam-webster.com         Male    9.2\n",
      "643   644             Price Pover                    ppoverhv@bbc.co.uk         Male    5.0\n",
      "644   645          Alysia Stoyell                   astoyellhw@xrea.com       Female    1.2\n",
      "645   646        Frederica Sesons               fsesonshx@economist.com       Female    6.7\n",
      "646   647            Anselm Salle                      asallehy@loc.gov         Male    2.2\n",
      "647   648          Royal Lindblad                 rlindbladhz@prlog.org  Genderfluid    3.6\n",
      "648   649       Pembroke McLaggan                pmclaggani0@forbes.com         Male    5.5\n",
      "649   650          Cinda Butchers               cbutchersi1@t-online.de       Female    4.7\n",
      "650   651            Perl Ridgers                 pridgersi2@oakley.com       Female    7.1\n",
      "651   652           Tawsha Nutley                 tnutleyi3@auda.org.au       Female    3.8\n",
      "652   653          Terry Jellings               tjellingsi4@cbsnews.com         Male    1.1\n",
      "653   654            Hashim Extil              hextili5@miibeian.gov.cn         Male    2.8\n",
      "654   655           Sibby Fassman                sfassmani6@gizmodo.com       Female    6.8\n",
      "655   656      Murielle Trethewey               mtretheweyi7@unicef.org       Female    6.7\n",
      "656   657         Frederic Jepson                  fjepsoni8@drupal.org     Bigender    3.4\n",
      "657   658       Papageno Kerswell          pkerswelli9@sciencedaily.com         Male    3.6\n",
      "658   659         Johnnie Conklin           jconklinia@biblegateway.com         Male    9.5\n",
      "659   660     Prentiss Rosenblath              prosenblathib@seesaa.net         Male    3.1\n",
      "660   661        Josephine Greder                  jgrederic@rediff.com       Female    9.9\n",
      "661   662             Beck Hiland                    bhilandid@gmpg.org         Male    3.0\n",
      "662   663              Sydney Alf                      salfie@yandex.ru       Female    3.4\n",
      "663   664       Krystle Dudleston             kdudlestonif@stanford.edu       Female    6.5\n",
      "664   665           Joyous Rodger              jrodgerig@privacy.gov.au       Female    1.2\n",
      "665   666           Fanny Watters                     fwattersih@360.cn       Female    4.5\n",
      "666   667            Klaus Mander                    kmanderii@ucsd.edu         Male    4.6\n",
      "667   668           Manon Conklin             mconklinij@mayoclinic.com   Polygender    9.4\n",
      "668   669        Kahaleel Ianizzi                 kianizziik@abc.net.au         Male    5.8\n",
      "669   670            Conn Braunds               cbraundsil@mapquest.com         Male    6.9\n",
      "670   671            Davide Tryme                 dtrymeim@bandcamp.com         Male    1.2\n",
      "671   672             Toma Biggin                   tbigginin@umich.edu       Female    3.4\n",
      "672   673          Marinna Feifer             mfeiferio@paginegialle.it       Female    8.9\n",
      "673   674      Miquela Castagnaro           mcastagnaroip@123-reg.co.uk       Female    7.8\n",
      "674   675          Maritsa Burker                   mburkeriq@github.io       Female    6.5\n",
      "675   676           Ilysa Antuoni                      iantuoniir@51.la       Female    9.0\n",
      "676   677             Berne Crain                   bcrainis@weebly.com         Male    2.5\n",
      "677   678        Abran MacQuarrie               amacquarrieit@google.ca         Male    2.8\n",
      "678   679          Hertha Epelett                   hepelettiu@sohu.com       Female    4.2\n",
      "679   680          Elke Castellan                ecastellaniv@adobe.com       Female    8.9\n",
      "680   681     Margarete Fairleigh              mfairleighiw@nytimes.com       Female    1.3\n",
      "681   682         Steffen Bywater           sbywaterix@domainmarket.com         Male    5.6\n",
      "682   683       Maribeth Thomelin               mthomeliniy@gizmodo.com       Female    5.7\n",
      "683   684           Leanor Ciardo               lciardoiz@123-reg.co.uk       Female    8.1\n",
      "684   685            Bent Havvock                  bhavvockj0@weibo.com         Male    6.1\n",
      "685   686         Ripley Hedworth               rhedworthj1@smugmug.com         Male    7.4\n",
      "686   687          Biron Sutheran                 bsutheranj2@house.gov         Male    3.4\n",
      "687   688            Zarla Seater                     zseaterj3@icq.com       Female    8.1\n",
      "688   689          Rosanne Taylot                   rtaylotj4@topsy.com       Female    3.6\n",
      "689   690        Matthieu Tackley               mtackleyj5@stanford.edu         Male    4.9\n",
      "690   691           Delia Stiller                dstillerj6@nbcnews.com       Female    2.9\n",
      "691   692         Taylor Ciccoloi               tciccoloij7@4shared.com         Male    3.7\n",
      "692   693        Christel Georgel                     cgeorgelj8@ca.gov       Female    9.1\n",
      "693   694         Shanda Hartgill              shartgillj9@addtoany.com  Genderqueer    5.8\n",
      "694   695        Jaquelyn Tuiller              jtuillerja@wikipedia.org       Female    1.0\n",
      "695   696          Melinde Pridie                   mpridiejb@europa.eu       Female    2.0\n",
      "696   697         Dermot Oldridge                doldridgejc@apache.org         Male    7.1\n",
      "697   698          Starlin Fasham                     sfashamjd@nps.gov       Female    4.7\n",
      "698   699          Malinde Lovick             mlovickje@istockphoto.com       Female    1.2\n",
      "699   700      Friedrich Wrefford               fwreffordjf@reuters.com         Male    7.1\n",
      "700   701         Darlene Pedican                dpedicanjg@latimes.com      Agender    3.4\n",
      "701   702           Myrah Ortiger                 mortigerjh@oakley.com       Female    9.2\n",
      "702   703           Halie Beedham                   hbeedhamji@ox.ac.uk       Female    2.3\n",
      "703   704              Dorry Gynn               dgynnjj@studiopress.com       Female    4.4\n",
      "704   705           Janey Shemilt               jshemiltjk@netvibes.com       Female    9.6\n",
      "705   706        Gwenneth McGenis                     gmcgenisjl@i2i.jp       Female    2.2\n",
      "706   707            Sammy Bowdon                 sbowdonjm@godaddy.com         Male    2.5\n",
      "707   708         Demeter McNelly                     dmcnellyjn@si.edu       Female    7.5\n",
      "708   709           Grant Sotheby                     gsothebyjo@goo.gl         Male    4.1\n",
      "709   710         Merola McLagain          mmclagainjp@biblegateway.com       Female    8.6\n",
      "710   711         Reube Gillebert                 rgillebertjq@jugem.jp         Male    8.9\n",
      "711   712            Arlene Josef              ajosefjr@stumbleupon.com       Female    9.2\n",
      "712   713            Saundra Asel                     saseljs@upenn.edu       Female    6.1\n",
      "713   714           Gradeigh Wimp                    gwimpjt@taobao.com         Male    6.5\n",
      "714   715             West Loache               wloacheju@delicious.com         Male    8.9\n",
      "715   716      Jeanelle Woodroffe                  jwoodroffejv@usa.gov       Female    8.2\n",
      "716   717           Tobe Kubatsch             tkubatschjw@amazonaws.com         Male    5.2\n",
      "717   718             Hallsy Moff                       hmoffjx@icq.com         Male    4.4\n",
      "718   719       Devinne Scandrett                  dscandrettjy@msu.edu       Female    2.5\n",
      "719   720           Ginevra Pavic         gpavicjz@networksolutions.com       Female    7.1\n",
      "720   721               Cory Wynn                    cwynnk0@senate.gov       Female    1.6\n",
      "721   722           Candy Kenward            ckenwardk1@sourceforge.net       Female    7.8\n",
      "722   723        Valaree Snowball                  vsnowballk2@ox.ac.uk       Female    4.6\n",
      "723   724        Nelson Karlowicz                  nkarlowiczk3@hud.gov         Male    7.2\n",
      "724   725    Benedetto Statefield              bstatefieldk4@scribd.com         Male    3.9\n",
      "725   726          Clarey Gehring              cgehringk5@wordpress.com       Female    5.0\n",
      "726   727           Nikolaos Stow                     nstowk6@blogs.com         Male    7.3\n",
      "727   728           Alidia Tybalt                       atybaltk7@de.vu  Genderqueer    1.0\n",
      "728   729     Roseann Pickervance          rpickervancek8@wikimedia.org       Female    9.2\n",
      "729   730        Bobby Catanheira          bcatanheirak9@technorati.com         Male    6.6\n",
      "730   731             Mada Jewitt                      mjewittka@qq.com       Female    2.2\n",
      "731   732       Nickey Giovanetti               ngiovanettikb@wufoo.com         Male    1.6\n",
      "732   733           Kelcy Kleisel                 kkleiselkc@boston.com       Female    7.7\n",
      "733   734           Rebeka Anglim                  ranglimkd@oracle.com       Female    2.7\n",
      "734   735          Eugenia Pelman           epelmanke@ezinearticles.com       Female    3.9\n",
      "735   736       Salvador Morcombe                   smorcombekf@cnn.com         Male    5.8\n",
      "736   737          Pyotr Ruttgers                 pruttgerskg@google.es         Male    9.1\n",
      "737   738          Adriane Bickle                   abicklekh@webmd.com       Female    3.8\n",
      "738   739         Christal Heaker               cheakerki@geocities.com       Female    8.5\n",
      "739   740           Rodrick Shark                rsharkkj@canalblog.com         Male    2.9\n",
      "740   741     Ekaterina Glencorse             eglencorsekk@linkedin.com       Female    8.2\n",
      "741   742             Nadya Scown                     nscownkl@uiuc.edu       Female    4.1\n",
      "742   743        Meredith Beville                    mbevillekm@mail.ru         Male    1.5\n",
      "743   744         Hermione Crates             hcrateskn@tripadvisor.com       Female    1.7\n",
      "744   745             Webb Mossop                     wmossopko@cmu.edu      Agender    1.9\n",
      "745   746           Avery Foskett          afoskettkp@blogtalkradio.com         Male    6.5\n",
      "746   747      Dorthea Nozzolinii                 dnozzoliniikq@who.int       Female    5.6\n",
      "747   748            Paxton Ovill                    povillkr@alexa.com         Male    9.5\n",
      "748   749           Baily Poluzzi                  bpoluzziks@exblog.jp         Male    4.6\n",
      "749   750            Umeko Dilkes                udilkeskt@bluehost.com  Genderqueer    8.9\n",
      "750   751          Cosetta Ingrey                cingreyku@newsvine.com       Female    1.7\n",
      "751   752             Jammal Rase               jrasekv@dailymail.co.uk         Male    6.2\n",
      "752   753    Staffard Whittenbury            swhittenburykw@behance.net         Male    5.4\n",
      "753   754        Kristina Drakard                 kdrakardkx@joomla.org       Female    4.2\n",
      "754   755          Teena Bursnall                tbursnallky@ebay.co.uk       Female    9.9\n",
      "755   756            Dorothee Lau                  dlaukz@instagram.com       Female    1.9\n",
      "756   757              Elton Regi                 eregil0@wordpress.com         Male    9.1\n",
      "757   758     Geralda Streetfield              gstreetfieldl1@prweb.com       Female    2.5\n",
      "758   759        Hedwiga Videneev                   hvideneevl2@irs.gov       Female    2.7\n",
      "759   760       Stephanus Prandin           sprandinl3@domainmarket.com         Male    4.3\n",
      "760   761            Hallsy Fowle                 hfowlel4@buzzfeed.com         Male    6.7\n",
      "761   762            Davina Tenby                   dtenbyl5@utexas.edu       Female    4.5\n",
      "762   763      Kirsteni Dabrowski          kdabrowskil6@dailymotion.com  Genderqueer    4.4\n",
      "763   764           Shell Fishley                    sfishleyl7@home.pl         Male    4.4\n",
      "764   765          Marc Di Maggio                      mdil8@ebay.co.uk         Male    3.7\n",
      "765   766          Maude Trouncer                mtrouncerl9@hao123.com       Female    2.7\n",
      "766   767         Marvin Metcalfe               mmetcalfela@pcworld.com         Male    2.4\n",
      "767   768        Brendin Pretious            bpretiouslb@bravesites.com         Male    5.8\n",
      "768   769         Wendie Baudouin             wbaudouinlc@moonfruit.com       Female    7.2\n",
      "769   770           Lucas Godbolt                  lgodboltld@intel.com         Male    8.1\n",
      "770   771          Durante Cloney                      dcloneyle@hp.com         Male    5.8\n",
      "771   772        Feodora Rowswell                frowswelllf@boston.com       Female    5.0\n",
      "772   773      Petronia Pressnell              ppressnelllg@dedecms.com   Polygender    4.0\n",
      "773   774             Ashli Essam                    aessamlh@europa.eu   Polygender    3.7\n",
      "774   775        Faulkner Matlock                fmatlockli@myspace.com         Male    8.3\n",
      "775   776            Wilma Camlin                    wcamlinlj@yelp.com       Female    5.4\n",
      "776   777         Porty Hidderley                  phidderleylk@pbs.org         Male    1.6\n",
      "777   778           Luis Caldroni           lcaldronill@theatlantic.com         Male    9.9\n",
      "778   779        Antonia Petyakov               apetyakovlm@alibaba.com       Female    4.1\n",
      "779   780             Marj Dundon                   mdundonln@weibo.com       Female    4.1\n",
      "780   781              Georg Lind                      glindlo@lulu.com         Male    3.8\n",
      "781   782             Honey Macia                hmacialp@indiegogo.com   Non-binary    5.7\n",
      "782   783         Carlene Copcutt                ccopcuttlq@alibaba.com       Female    8.7\n",
      "783   784             Lara Clarey               lclareylr@hostgator.com       Female    4.7\n",
      "784   785             Elmo Stanex                    estanexls@army.mil         Male    2.4\n",
      "785   786        Francine Burless         fburlesslt@huffingtonpost.com       Female    5.2\n",
      "786   787           Ignacius Gyer               igyerlu@dailymail.co.uk  Genderqueer    7.5\n",
      "787   788        Carleen Haythorn           chaythornlv@miibeian.gov.cn       Female    9.2\n",
      "788   789           Catie Wilsone                    cwilsonelw@fda.gov       Female    8.9\n",
      "789   790         Winslow Crisall              wcrisalllx@clickbank.net         Male    9.3\n",
      "790   791      Xymenes Kitchenham             xkitchenhamly@foxnews.com         Male    7.1\n",
      "791   792           Ranee Baltzar                  rbaltzarlz@topsy.com       Female    3.1\n",
      "792   793           Fabe Piechnik                   fpiechnikm0@com.com         Male    2.3\n",
      "793   794             York Reedie                  yreediem1@seesaa.net         Male    7.4\n",
      "794   795         Lurlene Ferriby                    lferribym2@ftc.gov       Female    3.3\n",
      "795   796    Clarance Brotherheed                cbrotherheedm3@php.net         Male    2.4\n",
      "796   797        Antonie Goodings             agoodingsm4@tuttocitta.it       Female    1.8\n",
      "797   798              Tyson Vink             tvinkm5@sciencedirect.com         Male    2.1\n",
      "798   799        Trenna Strettell              tstrettellm6@foxnews.com       Female    7.6\n",
      "799   800           Nevil Jirusek                   njirusekm7@ehow.com         Male    3.0\n",
      "800   801            Hetty Mordin                 hmordinm8@pcworld.com       Female    6.0\n",
      "801   802        Vladimir Shevell             vshevellm9@bravesites.com         Male    3.8\n",
      "802   803          Heath Habeshaw                    hhabeshawma@goo.gl         Male    2.3\n",
      "803   804        Clayborne Wavell                  cwavellmb@dion.ne.jp         Male    3.9\n",
      "804   805      Bernadette Melsome              bmelsomemc@newyorker.com       Female    1.6\n",
      "805   806        Sherline Pharaoh                spharaohmd@4shared.com       Female    2.5\n",
      "806   807         Tiff Bortolozzi     tbortolozzime@merriam-webster.com       Female    5.8\n",
      "807   808         Melonie Curteis              mcurteismf@parallels.com       Female    7.0\n",
      "808   809            Rae Eggleton                reggletonmg@unesco.org       Female    8.6\n",
      "809   810            Tudor Gurner                    tgurnermh@yelp.com         Male    3.1\n",
      "810   811             Margot Muck             mmuckmi@ezinearticles.com     Bigender    6.1\n",
      "811   812             Ned Yeatman             nyeatmanmj@techcrunch.com         Male    9.7\n",
      "812   813               Jedd Boor                       jboormk@mac.com         Male    5.1\n",
      "813   814         Marlene Quarles                    mquarlesml@unc.edu       Female    2.3\n",
      "814   815          Kari Guildford                  kguildfordmm@epa.gov       Female    1.4\n",
      "815   816        Catarina Brocket                   cbrocketmn@yelp.com       Female    8.2\n",
      "816   817     Calypso Du Plantier                       cdumo@sogou.com       Female    2.7\n",
      "817   818             Dom Dudmesh                ddudmeshmp@cbsnews.com         Male    4.5\n",
      "818   819         Bertrando Gegay                    bgegaymq@tmall.com         Male    6.0\n",
      "819   820           Angelina Gloy                 agloymr@google.com.hk       Female    3.5\n",
      "820   821              Odo Oneill                   ooneillms@globo.com         Male    1.6\n",
      "821   822         Stevena Reedman              sreedmanmt@homestead.com       Female    9.3\n",
      "822   823         Syman Prettjohn      sprettjohnmu@theglobeandmail.com         Male    4.7\n",
      "823   824           Bronny Dyball                      bdyballmv@pen.io         Male    1.0\n",
      "824   825           Orrin Ewbanks                  oewbanksmw@phpbb.com         Male    9.6\n",
      "825   826      Constantine Twiggs              ctwiggsmx@mayoclinic.com         Male    6.8\n",
      "826   827       Austen Leppington             aleppingtonmy@t-online.de         Male    2.3\n",
      "827   828        Aldridge Hapgood                ahapgoodmz@vinaora.com         Male    2.4\n",
      "828   829           Rinaldo Heard                      rheardn0@pbs.org         Male    1.4\n",
      "829   830          Dorine Winslow                  dwinslown1@google.fr       Female    3.7\n",
      "830   831            Orin Rontree               orontreen2@virginia.edu         Male    3.8\n",
      "831   832               Carr Vahl                      cvahln3@narod.ru         Male    4.0\n",
      "832   833          Chantal Maffin               cmaffinn4@wordpress.org       Female    3.2\n",
      "833   834            Kimbra Maior                   kmaiorn5@ebay.co.uk       Female    5.0\n",
      "834   835        Alvin Casseldine                acasseldinen6@about.me         Male    5.7\n",
      "835   836         Filippo Gellion                fgellionn7@twitter.com         Male    1.6\n",
      "836   837         Rozina Borleace               rborleacen8@skyrock.com   Polygender    9.7\n",
      "837   838             Mignon Ryce                       mrycen9@psu.edu       Female    2.0\n",
      "838   839            Bamby Gainor               bgainorna@microsoft.com       Female    1.6\n",
      "839   840          Filide Monahan              fmonahannb@shinystat.com       Female    7.1\n",
      "840   841             Haily Cowpe                      hcowpenc@last.fm     Bigender    7.7\n",
      "841   842            Chickie Phil                       cphilnd@php.net         Male    8.5\n",
      "842   843        Grannie Iiannone                  giiannonene@1und1.de         Male    4.3\n",
      "843   844           Rabi Bluschke            rbluschkenf@opensource.org         Male    2.4\n",
      "844   845           Austina Powis                     apowisng@noaa.gov       Female    8.7\n",
      "845   846         Golda Harrisson              gharrissonnh@state.tx.us       Female    1.4\n",
      "846   847        Georgeanna Whale                    gwhaleni@google.de       Female    4.9\n",
      "847   848            Mick Bannell                  mbannellnj@desdev.cn         Male    6.7\n",
      "848   849       Gregory Stonhouse                 gstonhousenk@ucsd.edu      Agender    3.3\n",
      "849   850       Yasmin Bisterfeld           ybisterfeldnl@reference.com   Non-binary    1.1\n",
      "850   851          Giffie Brettle                    gbrettlenm@who.int         Male    9.2\n",
      "851   852          Alwin McShirie                 amcshirienn@adobe.com         Male    5.5\n",
      "852   853         Daffie Brandsma           dbrandsmano@theguardian.com       Female    3.6\n",
      "853   854          Lemuel Reinert                 lreinertnp@smh.com.au   Non-binary    9.7\n",
      "854   855           Nev St. Louis                        nstnq@yelp.com         Male    8.3\n",
      "855   856      Giselbert Loughlan                gloughlannr@flavors.me         Male    2.0\n",
      "856   857          Ozzy O' Mahony                      oons@myspace.com     Bigender    8.9\n",
      "857   858            Ermin Peyzer                    epeyzernt@tamu.edu         Male    6.8\n",
      "858   859           Chery Shrieve                    cshrievenu@nyu.edu       Female    7.5\n",
      "859   860       Connor Hatterslay              chatterslaynv@forbes.com         Male    2.2\n",
      "860   861          Estelle Broxis                  ebroxisnw@netlog.com       Female    6.4\n",
      "861   862          Ebenezer Pooke                   epookenx@devhub.com         Male    2.3\n",
      "862   863          Aurelea Norgan                  anorganny@amazon.com       Female    4.1\n",
      "863   864            Katey Foulks                    kfoulksnz@furl.net       Female    5.0\n",
      "864   865         Skipper Reinmar                    sreinmaro0@wsj.com         Male    7.0\n",
      "865   866          Henrietta Vell              hvello1@surveymonkey.com  Genderfluid    7.0\n",
      "866   867         Penelope Pegrum                ppegrumo2@stanford.edu       Female    5.1\n",
      "867   868       Jessamine Ozelton                   jozeltono3@imdb.com       Female    8.4\n",
      "868   869       Theressa Bickmore                 tbickmoreo4@fotki.com       Female    3.5\n",
      "869   870            Lishe Diggar                    ldiggaro5@hibu.com       Female    8.2\n",
      "870   871        Gusella Gronauer              ggronauero6@hatena.ne.jp       Female    6.6\n",
      "871   872        Vidovik Fennelow               vfennelowo7@alibaba.com         Male    9.2\n",
      "872   873              Arda Kuhle                     akuhleo8@phoca.cz   Polygender    8.0\n",
      "873   874           Gusti Hounsom                 ghounsomo9@oracle.com       Female    9.8\n",
      "874   875           Jens Rayworth            jrayworthoa@techcrunch.com         Male    4.4\n",
      "875   876       Remington Durrett               rdurrettob@engadget.com         Male    3.4\n",
      "876   877         Timothy Caldera             tcalderaoc@opensource.org         Male    2.1\n",
      "877   878              Korey Daen                    kdaenod@boston.com         Male    3.1\n",
      "878   879          Obed Chantrell                    ochantrelloe@51.la  Genderqueer    7.2\n",
      "879   880         Corry Bertomier              cbertomierof@webnode.com       Female    8.3\n",
      "880   881             Kaye Hawker                   khawkerog@exblog.jp       Female    8.7\n",
      "881   882         Lindsey Boddice               lboddiceoh@columbia.edu         Male    5.9\n",
      "882   883             Tam Robison               trobisonoi@columbia.edu         Male    4.4\n",
      "883   884         Elberta Sissens                   esissensoj@1688.com       Female    9.2\n",
      "884   885     Frederique Davisson              fdavissonok@trellian.com     Bigender    1.4\n",
      "885   886          Aretha Coslett              acoslettol@posterous.com       Female    6.4\n",
      "886   887           Carree Revely                    crevelyom@cnet.com   Non-binary    1.8\n",
      "887   888          Leeann Norheny              lnorhenyon@wordpress.org       Female    7.0\n",
      "888   889             Nisse Earry                  nearryoo@skyrock.com       Female    8.2\n",
      "889   890           Petr Truelock                ptruelockop@ustream.tv         Male    9.7\n",
      "890   891         Karissa Lodford                  klodfordoq@house.gov       Female    6.4\n",
      "891   892          Wilek McGiffie              wmcgiffieor@columbia.edu         Male    3.9\n",
      "892   893           Derick Raymen                   draymenos@slate.com         Male    2.7\n",
      "893   894         Whitney Linnell                   wlinnellot@gmpg.org         Male    5.1\n",
      "894   895           Dalli Ferrand               dferrandou@examiner.com         Male    6.8\n",
      "895   896       Pascale O'Donovan                  podonovanov@sohu.com         Male    5.5\n",
      "896   897           Goddart Crabb                 gcrabbow@trellian.com         Male    5.4\n",
      "897   898         Trudi Delacourt          tdelacourtox@kickstarter.com       Female    6.4\n",
      "898   899             Bab Soppett                  bsoppettoy@ifeng.com       Female    6.9\n",
      "899   900             Leroy Duval                  lduvaloz@walmart.com         Male    7.6\n",
      "900   901         Rozanna Hinners                  rhinnersp0@unblog.fr       Female    5.9\n",
      "901   902      Kaile Lotterington               klotteringtonp1@loc.gov       Female    5.7\n",
      "902   903     Julienne Sivewright                jsivewrightp2@ehow.com       Female    3.4\n",
      "903   904       Jaquelin Featonby                    jfeatonbyp3@gov.uk       Female    6.1\n",
      "904   905        Tiphany Stadding                tstaddingp4@ustream.tv       Female    7.7\n",
      "905   906       Bianka Schenfisch                bschenfischp5@dell.com       Female    8.6\n",
      "906   907           Deeann Haskew               dhaskewp6@clickbank.net  Genderqueer    6.0\n",
      "907   908             Raviv Piele                       rpielep7@cbc.ca         Male    3.5\n",
      "908   909          Ramona Jeannon             rjeannonp8@shareasale.com       Female    3.6\n",
      "909   910         Samara Spedding                 sspeddingp9@tmall.com       Female    3.6\n",
      "910   911          Craig Lecointe                   clecointepa@ucoz.ru         Male    8.1\n",
      "911   912            Sophey Dreng                   sdrengpb@unicef.org       Female    6.6\n",
      "912   913           Emery Bayston                ebaystonpc@plala.or.jp         Male    6.2\n",
      "913   914         Cathie Cuttelar              ccuttelarpd@omniture.com       Female    8.5\n",
      "914   915         Kelwin Barrasse              kbarrassepe@japanpost.jp         Male    3.0\n",
      "915   916            Avis Lovekin            alovekinpf@theguardian.com       Female    6.1\n",
      "916   917           Harriot Endle                 hendlepg@symantec.com   Non-binary    7.7\n",
      "917   918      Alejandro Ferrolli              aferrolliph@slashdot.org         Male    9.9\n",
      "918   919         Alissa Beaument                 abeaumentpi@yandex.ru      Agender    9.7\n",
      "919   920          Jermain Bolduc                 jbolducpj@samsung.com         Male    8.9\n",
      "920   921         Maisey Francois                   mfrancoispk@nyu.edu       Female    2.3\n",
      "921   922          Merill Chalice                 mchalicepl@nature.com         Male    2.6\n",
      "922   923        Delbert Schwieso        dschwiesopm@washingtonpost.com  Genderqueer    9.1\n",
      "923   924          Eloisa Yabsley                    eyabsleypn@msu.edu       Female    8.0\n",
      "924   925             Thibaut Jay                      tjaypo@imgur.com         Male    5.2\n",
      "925   926          Wenona Winborn             wwinbornpp@wikispaces.com       Female    1.9\n",
      "926   927           Fidel Grocock                  fgrocockpq@exblog.jp         Male    1.3\n",
      "927   928            Pier Heineke             pheinekepr@shutterfly.com       Female    3.1\n",
      "928   929         Nerita Hazelton               nhazeltonps@sina.com.cn       Female    9.6\n",
      "929   930         Wallis Klulisek                 wklulisekpt@topsy.com       Female    7.8\n",
      "930   931       Brandtr McIlmorow               bmcilmorowpu@seesaa.net         Male    9.9\n",
      "931   932           Gayle Keighly                       gkeighlypv@g.co         Male    1.2\n",
      "932   933      Dalila Sherebrooke            dsherebrookepw@t-online.de   Polygender    3.0\n",
      "933   934          Murry Northage                 mnorthagepx@bbc.co.uk         Male    4.7\n",
      "934   935         Rodolph Leivers             rleiverspy@shutterfly.com         Male    9.9\n",
      "935   936            Lelia Colley                    lcolleypz@time.com       Female    4.5\n",
      "936   937  Constantino Strewthers                cstrewthersq0@digg.com         Male    1.1\n",
      "937   938        Xever Haslegrave               xhaslegraveq1@ocn.ne.jp         Male    9.8\n",
      "938   939            Frankie Jago                      fjagoq2@ebay.com  Genderqueer    2.6\n",
      "939   940        Gibbie Boumphrey                  gboumphreyq3@sun.com         Male    5.1\n",
      "940   941        Stephanus Gracey              sgraceyq4@thetimes.co.uk         Male    9.2\n",
      "941   942           Chery O'Heyne                     coheyneq5@163.com       Female    5.7\n",
      "942   943          Yancy Gregolin             ygregolinq6@tuttocitta.it         Male    3.4\n",
      "943   944       Aprilette Swindon               aswindonq7@google.co.uk       Female    4.5\n",
      "944   945         Evered Simmonds                  esimmondsq8@army.mil   Polygender    6.7\n",
      "945   946          Chico Claesens              cclaesensq9@addtoany.com         Male    2.3\n",
      "946   947          Alexis Alliban              aallibanqa@microsoft.com         Male    5.8\n",
      "947   948          Kirby Anniwell            kanniwellqb@shutterfly.com         Male    8.1\n",
      "948   949            Harley Reece                    hreeceqc@vimeo.com       Female    9.1\n",
      "949   950          Ketty Martland                 kmartlandqd@google.ru       Female    3.7\n",
      "950   951             Iorgo Burle             iburleqe@wunderground.com         Male    7.5\n",
      "951   952           Pansie Ensten                   penstenqf@google.fr       Female    6.9\n",
      "952   953              Brew Dudek                bdudekqg@wikipedia.org         Male    6.6\n",
      "953   954        Broddy Dell Casa                  bdellqh@berkeley.edu         Male    1.1\n",
      "954   955       Samuel MacCarroll        smaccarrollqi@seattletimes.com         Male    8.5\n",
      "955   956         Eldon Zealander           ezealanderqj@purevolume.com         Male    3.2\n",
      "956   957          Toiboid Varley               tvarleyqk@reference.com         Male    8.5\n",
      "957   958           Morton Isoldi                  misoldiql@senate.gov         Male    1.6\n",
      "958   959        Alec Barnaclough             abarnacloughqm@google.com         Male   10.0\n",
      "959   960         Perice Quarrell                   pquarrellqn@163.com      Agender    1.7\n",
      "960   961           Corina Hayhoe                    chayhoeqo@dell.com       Female    6.8\n",
      "961   962             Orren Eneas                    oeneasqp@upenn.edu         Male    4.1\n",
      "962   963       Alidia Wickersham  awickershamqq@networkadvertising.org       Female    8.6\n",
      "963   964           Mandel Orgill                 morgillqr@comcast.net         Male    6.5\n",
      "964   965      Ignatius Stockhill       istockhillqs@huffingtonpost.com         Male    4.8\n",
      "965   966         Vanni Dobbinson                  vdobbinsonqt@nps.gov       Female    5.7\n",
      "966   967           Nyssa Ipgrave                nipgravequ@reuters.com       Female    6.9\n",
      "967   968             Gil Dunnett                    gdunnettqv@aol.com         Male    2.0\n",
      "968   969            Karee Luther                    klutherqw@gmpg.org       Female    3.4\n",
      "969   970         Thurston Dilrew              tdilrewqx@shareasale.com         Male    6.6\n",
      "970   971         Vassily Charter                 vcharterqy@elpais.com         Male    8.3\n",
      "971   972          Gery Thirlaway                  gthirlawayqz@ask.com         Male    3.5\n",
      "972   973    Lilllie Tomczykowski              ltomczykowskir0@admin.ch       Female    5.5\n",
      "973   974           Karel Bravery                 kbraveryr1@rambler.ru         Male    5.0\n",
      "974   975        Berkley Bertolin       bbertolinr2@cargocollective.com         Male    9.5\n",
      "975   976         Torin Botwright                 tbotwrightr3@etsy.com         Male    6.6\n",
      "976   977           Stinky Hubane                shubaner4@netvibes.com         Male    9.7\n",
      "977   978      Antonio Ecclestone             aecclestoner5@foxnews.com         Male    5.2\n",
      "978   979           Roman de Vaen                       rder6@hc360.com         Male    3.8\n",
      "979   980       Loralee Stebbings                   lstebbingsr7@hp.com       Female    2.6\n",
      "980   981             Bryon Order              borderr8@photobucket.com         Male    7.2\n",
      "981   982          Pattin Bissett                   pbissettr9@imdb.com         Male    1.9\n",
      "982   983            Farlay Corke           fcorkera@simplemachines.org         Male    4.5\n",
      "983   984            Kaylyn Males               kmalesrb@technorati.com       Female    9.1\n",
      "984   985           Twila McIsaac                  tmcisaacrc@amazon.de       Female    3.3\n",
      "985   986       Mariele Bradberry                mbradberryrd@prlog.org       Female    5.7\n",
      "986   987             Shea Ormond                 sormondre@storify.com         Male    6.7\n",
      "987   988            Mavis Toquet             mtoquetrf@marketwatch.com       Female    5.9\n",
      "988   989            Jane Durtnal                   jdurtnalrg@1688.com       Female    9.9\n",
      "989   990              Ugo Moffet                umoffetrh@slashdot.org         Male    1.8\n",
      "990   991           Joseph Darcey                    jdarceyri@blog.com  Genderfluid    5.1\n",
      "991   992          Roderic Effemy                    reffemyrj@ox.ac.uk         Male    4.4\n",
      "992   993           Brock Fuzzens                bfuzzensrk@arizona.edu         Male    6.9\n",
      "993   994         Sergio Luckcock                   sluckcockrl@msn.com         Male    5.2\n",
      "994   995             Joyan Balas                         jbalasrm@t.co       Female    1.2\n",
      "995   996        Bernie Gillespey                  bgillespeyrn@mapy.cz  Genderfluid    8.8\n",
      "996   997       Deonne Woodbridge               dwoodbridgero@google.fr       Female    5.4\n",
      "997   998        Danella Bienvenu               dbienvenurp@twitpic.com       Female    5.0\n",
      "998   999            Giraud Goane                ggoanerq@xinhuanet.com         Male    9.7\n",
      "999  1000           Mort Muddiman               mmuddimanrr@mozilla.com         Male    2.0\n"
     ]
    }
   ],
   "source": [
    "print(student_data.to_string())"
   ]
  },
  {
   "cell_type": "code",
   "execution_count": 27,
   "id": "6b161b2e-85fd-4808-8c47-394c21840bc3",
   "metadata": {},
   "outputs": [
    {
     "data": {
      "text/plain": [
       "(1000, 5)"
      ]
     },
     "execution_count": 27,
     "metadata": {},
     "output_type": "execute_result"
    }
   ],
   "source": [
    "student_data.shape"
   ]
  },
  {
   "cell_type": "code",
   "execution_count": 28,
   "id": "cfe56d4d-d4f0-42ea-85ed-02fcd5878bbd",
   "metadata": {},
   "outputs": [
    {
     "name": "stdout",
     "output_type": "stream",
     "text": [
      "<class 'pandas.core.frame.DataFrame'>\n",
      "RangeIndex: 1000 entries, 0 to 999\n",
      "Data columns (total 5 columns):\n",
      " #   Column  Non-Null Count  Dtype  \n",
      "---  ------  --------------  -----  \n",
      " 0   id      1000 non-null   int64  \n",
      " 1   name    1000 non-null   object \n",
      " 2   email   1000 non-null   object \n",
      " 3   gender  1000 non-null   object \n",
      " 4   grade   1000 non-null   float64\n",
      "dtypes: float64(1), int64(1), object(3)\n",
      "memory usage: 39.2+ KB\n",
      "None\n"
     ]
    }
   ],
   "source": [
    "print(student_data.info())"
   ]
  },
  {
   "cell_type": "code",
   "execution_count": 31,
   "id": "c43f1cda-9120-4dd7-afd9-a3becfc629eb",
   "metadata": {},
   "outputs": [
    {
     "data": {
      "text/html": [
       "<div>\n",
       "<style scoped>\n",
       "    .dataframe tbody tr th:only-of-type {\n",
       "        vertical-align: middle;\n",
       "    }\n",
       "\n",
       "    .dataframe tbody tr th {\n",
       "        vertical-align: top;\n",
       "    }\n",
       "\n",
       "    .dataframe thead th {\n",
       "        text-align: right;\n",
       "    }\n",
       "</style>\n",
       "<table border=\"1\" class=\"dataframe\">\n",
       "  <thead>\n",
       "    <tr style=\"text-align: right;\">\n",
       "      <th></th>\n",
       "      <th>id</th>\n",
       "      <th>name</th>\n",
       "      <th>grade</th>\n",
       "    </tr>\n",
       "  </thead>\n",
       "  <tbody>\n",
       "    <tr>\n",
       "      <th>0</th>\n",
       "      <td>1</td>\n",
       "      <td>Cirstoforo Haime</td>\n",
       "      <td>6.5</td>\n",
       "    </tr>\n",
       "    <tr>\n",
       "      <th>1</th>\n",
       "      <td>2</td>\n",
       "      <td>Ebony Moyes</td>\n",
       "      <td>3.6</td>\n",
       "    </tr>\n",
       "    <tr>\n",
       "      <th>2</th>\n",
       "      <td>3</td>\n",
       "      <td>Lilli McMenamin</td>\n",
       "      <td>5.2</td>\n",
       "    </tr>\n",
       "    <tr>\n",
       "      <th>3</th>\n",
       "      <td>4</td>\n",
       "      <td>Leeland Baglin</td>\n",
       "      <td>1.6</td>\n",
       "    </tr>\n",
       "    <tr>\n",
       "      <th>4</th>\n",
       "      <td>5</td>\n",
       "      <td>Riley Semiras</td>\n",
       "      <td>8.0</td>\n",
       "    </tr>\n",
       "  </tbody>\n",
       "</table>\n",
       "</div>"
      ],
      "text/plain": [
       "   id              name  grade\n",
       "0   1  Cirstoforo Haime    6.5\n",
       "1   2       Ebony Moyes    3.6\n",
       "2   3   Lilli McMenamin    5.2\n",
       "3   4    Leeland Baglin    1.6\n",
       "4   5     Riley Semiras    8.0"
      ]
     },
     "execution_count": 31,
     "metadata": {},
     "output_type": "execute_result"
    }
   ],
   "source": [
    "student_data[['id','name','grade']].head() #reading selected columns"
   ]
  },
  {
   "cell_type": "code",
   "execution_count": 32,
   "id": "85c4defa-7381-4110-a473-75bf79a62b08",
   "metadata": {},
   "outputs": [
    {
     "data": {
      "text/plain": [
       "count    1000.000000\n",
       "mean        5.550900\n",
       "std         2.635843\n",
       "min         1.000000\n",
       "25%         3.200000\n",
       "50%         5.500000\n",
       "75%         7.900000\n",
       "max        10.000000\n",
       "Name: grade, dtype: float64"
      ]
     },
     "execution_count": 32,
     "metadata": {},
     "output_type": "execute_result"
    }
   ],
   "source": [
    "student_data['grade'].describe()"
   ]
  },
  {
   "cell_type": "code",
   "execution_count": null,
   "id": "95417927-1258-4a7c-9779-416a23856363",
   "metadata": {},
   "outputs": [],
   "source": []
  }
 ],
 "metadata": {
  "kernelspec": {
   "display_name": "Python 3 (ipykernel)",
   "language": "python",
   "name": "python3"
  },
  "language_info": {
   "codemirror_mode": {
    "name": "ipython",
    "version": 3
   },
   "file_extension": ".py",
   "mimetype": "text/x-python",
   "name": "python",
   "nbconvert_exporter": "python",
   "pygments_lexer": "ipython3",
   "version": "3.13.2"
  }
 },
 "nbformat": 4,
 "nbformat_minor": 5
}
